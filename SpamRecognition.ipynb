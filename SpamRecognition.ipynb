{
  "nbformat": 4,
  "nbformat_minor": 0,
  "metadata": {
    "colab": {
      "name": "SpamRecognition.ipynb",
      "provenance": [],
      "collapsed_sections": [],
      "authorship_tag": "ABX9TyMwVNeLMI6pCTRuRtowpea/",
      "include_colab_link": true
    },
    "kernelspec": {
      "name": "python3",
      "display_name": "Python 3"
    },
    "language_info": {
      "name": "python"
    },
    "accelerator": "GPU",
    "widgets": {
      "application/vnd.jupyter.widget-state+json": {
        "871b83c4e25d497fb7f35a136d5e1397": {
          "model_module": "@jupyter-widgets/controls",
          "model_name": "HBoxModel",
          "state": {
            "_view_name": "HBoxView",
            "_dom_classes": [],
            "_model_name": "HBoxModel",
            "_view_module": "@jupyter-widgets/controls",
            "_model_module_version": "1.5.0",
            "_view_count": null,
            "_view_module_version": "1.5.0",
            "box_style": "",
            "layout": "IPY_MODEL_39c4253402a24aa797dde6e02f8d8e0b",
            "_model_module": "@jupyter-widgets/controls",
            "children": [
              "IPY_MODEL_9f21193885d54e299c282957d0fde8df",
              "IPY_MODEL_db526611746b43af938e865603b86a6a"
            ]
          }
        },
        "39c4253402a24aa797dde6e02f8d8e0b": {
          "model_module": "@jupyter-widgets/base",
          "model_name": "LayoutModel",
          "state": {
            "_view_name": "LayoutView",
            "grid_template_rows": null,
            "right": null,
            "justify_content": null,
            "_view_module": "@jupyter-widgets/base",
            "overflow": null,
            "_model_module_version": "1.2.0",
            "_view_count": null,
            "flex_flow": null,
            "width": null,
            "min_width": null,
            "border": null,
            "align_items": null,
            "bottom": null,
            "_model_module": "@jupyter-widgets/base",
            "top": null,
            "grid_column": null,
            "overflow_y": null,
            "overflow_x": null,
            "grid_auto_flow": null,
            "grid_area": null,
            "grid_template_columns": null,
            "flex": null,
            "_model_name": "LayoutModel",
            "justify_items": null,
            "grid_row": null,
            "max_height": null,
            "align_content": null,
            "visibility": null,
            "align_self": null,
            "height": null,
            "min_height": null,
            "padding": null,
            "grid_auto_rows": null,
            "grid_gap": null,
            "max_width": null,
            "order": null,
            "_view_module_version": "1.2.0",
            "grid_template_areas": null,
            "object_position": null,
            "object_fit": null,
            "grid_auto_columns": null,
            "margin": null,
            "display": null,
            "left": null
          }
        },
        "9f21193885d54e299c282957d0fde8df": {
          "model_module": "@jupyter-widgets/controls",
          "model_name": "FloatProgressModel",
          "state": {
            "_view_name": "ProgressView",
            "style": "IPY_MODEL_90fb484052e2402e9c736fd02ae7e174",
            "_dom_classes": [],
            "description": "Downloading: 100%",
            "_model_name": "FloatProgressModel",
            "bar_style": "success",
            "max": 28,
            "_view_module": "@jupyter-widgets/controls",
            "_model_module_version": "1.5.0",
            "value": 28,
            "_view_count": null,
            "_view_module_version": "1.5.0",
            "orientation": "horizontal",
            "min": 0,
            "description_tooltip": null,
            "_model_module": "@jupyter-widgets/controls",
            "layout": "IPY_MODEL_7bdc42d7bb72451896198a0b8ab3c0ab"
          }
        },
        "db526611746b43af938e865603b86a6a": {
          "model_module": "@jupyter-widgets/controls",
          "model_name": "HTMLModel",
          "state": {
            "_view_name": "HTMLView",
            "style": "IPY_MODEL_b67850f00dc3467ea8c42b7109dd21de",
            "_dom_classes": [],
            "description": "",
            "_model_name": "HTMLModel",
            "placeholder": "​",
            "_view_module": "@jupyter-widgets/controls",
            "_model_module_version": "1.5.0",
            "value": " 28.0/28.0 [00:00&lt;00:00, 41.2B/s]",
            "_view_count": null,
            "_view_module_version": "1.5.0",
            "description_tooltip": null,
            "_model_module": "@jupyter-widgets/controls",
            "layout": "IPY_MODEL_078b5e25aee04a0293e6702a44552d73"
          }
        },
        "90fb484052e2402e9c736fd02ae7e174": {
          "model_module": "@jupyter-widgets/controls",
          "model_name": "ProgressStyleModel",
          "state": {
            "_view_name": "StyleView",
            "_model_name": "ProgressStyleModel",
            "description_width": "initial",
            "_view_module": "@jupyter-widgets/base",
            "_model_module_version": "1.5.0",
            "_view_count": null,
            "_view_module_version": "1.2.0",
            "bar_color": null,
            "_model_module": "@jupyter-widgets/controls"
          }
        },
        "7bdc42d7bb72451896198a0b8ab3c0ab": {
          "model_module": "@jupyter-widgets/base",
          "model_name": "LayoutModel",
          "state": {
            "_view_name": "LayoutView",
            "grid_template_rows": null,
            "right": null,
            "justify_content": null,
            "_view_module": "@jupyter-widgets/base",
            "overflow": null,
            "_model_module_version": "1.2.0",
            "_view_count": null,
            "flex_flow": null,
            "width": null,
            "min_width": null,
            "border": null,
            "align_items": null,
            "bottom": null,
            "_model_module": "@jupyter-widgets/base",
            "top": null,
            "grid_column": null,
            "overflow_y": null,
            "overflow_x": null,
            "grid_auto_flow": null,
            "grid_area": null,
            "grid_template_columns": null,
            "flex": null,
            "_model_name": "LayoutModel",
            "justify_items": null,
            "grid_row": null,
            "max_height": null,
            "align_content": null,
            "visibility": null,
            "align_self": null,
            "height": null,
            "min_height": null,
            "padding": null,
            "grid_auto_rows": null,
            "grid_gap": null,
            "max_width": null,
            "order": null,
            "_view_module_version": "1.2.0",
            "grid_template_areas": null,
            "object_position": null,
            "object_fit": null,
            "grid_auto_columns": null,
            "margin": null,
            "display": null,
            "left": null
          }
        },
        "b67850f00dc3467ea8c42b7109dd21de": {
          "model_module": "@jupyter-widgets/controls",
          "model_name": "DescriptionStyleModel",
          "state": {
            "_view_name": "StyleView",
            "_model_name": "DescriptionStyleModel",
            "description_width": "",
            "_view_module": "@jupyter-widgets/base",
            "_model_module_version": "1.5.0",
            "_view_count": null,
            "_view_module_version": "1.2.0",
            "_model_module": "@jupyter-widgets/controls"
          }
        },
        "078b5e25aee04a0293e6702a44552d73": {
          "model_module": "@jupyter-widgets/base",
          "model_name": "LayoutModel",
          "state": {
            "_view_name": "LayoutView",
            "grid_template_rows": null,
            "right": null,
            "justify_content": null,
            "_view_module": "@jupyter-widgets/base",
            "overflow": null,
            "_model_module_version": "1.2.0",
            "_view_count": null,
            "flex_flow": null,
            "width": null,
            "min_width": null,
            "border": null,
            "align_items": null,
            "bottom": null,
            "_model_module": "@jupyter-widgets/base",
            "top": null,
            "grid_column": null,
            "overflow_y": null,
            "overflow_x": null,
            "grid_auto_flow": null,
            "grid_area": null,
            "grid_template_columns": null,
            "flex": null,
            "_model_name": "LayoutModel",
            "justify_items": null,
            "grid_row": null,
            "max_height": null,
            "align_content": null,
            "visibility": null,
            "align_self": null,
            "height": null,
            "min_height": null,
            "padding": null,
            "grid_auto_rows": null,
            "grid_gap": null,
            "max_width": null,
            "order": null,
            "_view_module_version": "1.2.0",
            "grid_template_areas": null,
            "object_position": null,
            "object_fit": null,
            "grid_auto_columns": null,
            "margin": null,
            "display": null,
            "left": null
          }
        },
        "9bf768afe93c49fa948824375a32f1f3": {
          "model_module": "@jupyter-widgets/controls",
          "model_name": "HBoxModel",
          "state": {
            "_view_name": "HBoxView",
            "_dom_classes": [],
            "_model_name": "HBoxModel",
            "_view_module": "@jupyter-widgets/controls",
            "_model_module_version": "1.5.0",
            "_view_count": null,
            "_view_module_version": "1.5.0",
            "box_style": "",
            "layout": "IPY_MODEL_f56e29d4876141f2bb187f68e49c6146",
            "_model_module": "@jupyter-widgets/controls",
            "children": [
              "IPY_MODEL_493f977bcf1a4bc6a80b669b4e6eb8cc",
              "IPY_MODEL_66f8fdfffedb4d8e9293a60055789e77"
            ]
          }
        },
        "f56e29d4876141f2bb187f68e49c6146": {
          "model_module": "@jupyter-widgets/base",
          "model_name": "LayoutModel",
          "state": {
            "_view_name": "LayoutView",
            "grid_template_rows": null,
            "right": null,
            "justify_content": null,
            "_view_module": "@jupyter-widgets/base",
            "overflow": null,
            "_model_module_version": "1.2.0",
            "_view_count": null,
            "flex_flow": null,
            "width": null,
            "min_width": null,
            "border": null,
            "align_items": null,
            "bottom": null,
            "_model_module": "@jupyter-widgets/base",
            "top": null,
            "grid_column": null,
            "overflow_y": null,
            "overflow_x": null,
            "grid_auto_flow": null,
            "grid_area": null,
            "grid_template_columns": null,
            "flex": null,
            "_model_name": "LayoutModel",
            "justify_items": null,
            "grid_row": null,
            "max_height": null,
            "align_content": null,
            "visibility": null,
            "align_self": null,
            "height": null,
            "min_height": null,
            "padding": null,
            "grid_auto_rows": null,
            "grid_gap": null,
            "max_width": null,
            "order": null,
            "_view_module_version": "1.2.0",
            "grid_template_areas": null,
            "object_position": null,
            "object_fit": null,
            "grid_auto_columns": null,
            "margin": null,
            "display": null,
            "left": null
          }
        },
        "493f977bcf1a4bc6a80b669b4e6eb8cc": {
          "model_module": "@jupyter-widgets/controls",
          "model_name": "FloatProgressModel",
          "state": {
            "_view_name": "ProgressView",
            "style": "IPY_MODEL_2c5d920a33174870a54a2c1f43d63be4",
            "_dom_classes": [],
            "description": "Downloading: 100%",
            "_model_name": "FloatProgressModel",
            "bar_style": "success",
            "max": 625,
            "_view_module": "@jupyter-widgets/controls",
            "_model_module_version": "1.5.0",
            "value": 625,
            "_view_count": null,
            "_view_module_version": "1.5.0",
            "orientation": "horizontal",
            "min": 0,
            "description_tooltip": null,
            "_model_module": "@jupyter-widgets/controls",
            "layout": "IPY_MODEL_603665c0d089435a9e594c5efae76d9d"
          }
        },
        "66f8fdfffedb4d8e9293a60055789e77": {
          "model_module": "@jupyter-widgets/controls",
          "model_name": "HTMLModel",
          "state": {
            "_view_name": "HTMLView",
            "style": "IPY_MODEL_a925f0793e324a8bbec0ab8b56558872",
            "_dom_classes": [],
            "description": "",
            "_model_name": "HTMLModel",
            "placeholder": "​",
            "_view_module": "@jupyter-widgets/controls",
            "_model_module_version": "1.5.0",
            "value": " 625/625 [00:01&lt;00:00, 329B/s]",
            "_view_count": null,
            "_view_module_version": "1.5.0",
            "description_tooltip": null,
            "_model_module": "@jupyter-widgets/controls",
            "layout": "IPY_MODEL_20f8592a05614c449690acd9f0355c5d"
          }
        },
        "2c5d920a33174870a54a2c1f43d63be4": {
          "model_module": "@jupyter-widgets/controls",
          "model_name": "ProgressStyleModel",
          "state": {
            "_view_name": "StyleView",
            "_model_name": "ProgressStyleModel",
            "description_width": "initial",
            "_view_module": "@jupyter-widgets/base",
            "_model_module_version": "1.5.0",
            "_view_count": null,
            "_view_module_version": "1.2.0",
            "bar_color": null,
            "_model_module": "@jupyter-widgets/controls"
          }
        },
        "603665c0d089435a9e594c5efae76d9d": {
          "model_module": "@jupyter-widgets/base",
          "model_name": "LayoutModel",
          "state": {
            "_view_name": "LayoutView",
            "grid_template_rows": null,
            "right": null,
            "justify_content": null,
            "_view_module": "@jupyter-widgets/base",
            "overflow": null,
            "_model_module_version": "1.2.0",
            "_view_count": null,
            "flex_flow": null,
            "width": null,
            "min_width": null,
            "border": null,
            "align_items": null,
            "bottom": null,
            "_model_module": "@jupyter-widgets/base",
            "top": null,
            "grid_column": null,
            "overflow_y": null,
            "overflow_x": null,
            "grid_auto_flow": null,
            "grid_area": null,
            "grid_template_columns": null,
            "flex": null,
            "_model_name": "LayoutModel",
            "justify_items": null,
            "grid_row": null,
            "max_height": null,
            "align_content": null,
            "visibility": null,
            "align_self": null,
            "height": null,
            "min_height": null,
            "padding": null,
            "grid_auto_rows": null,
            "grid_gap": null,
            "max_width": null,
            "order": null,
            "_view_module_version": "1.2.0",
            "grid_template_areas": null,
            "object_position": null,
            "object_fit": null,
            "grid_auto_columns": null,
            "margin": null,
            "display": null,
            "left": null
          }
        },
        "a925f0793e324a8bbec0ab8b56558872": {
          "model_module": "@jupyter-widgets/controls",
          "model_name": "DescriptionStyleModel",
          "state": {
            "_view_name": "StyleView",
            "_model_name": "DescriptionStyleModel",
            "description_width": "",
            "_view_module": "@jupyter-widgets/base",
            "_model_module_version": "1.5.0",
            "_view_count": null,
            "_view_module_version": "1.2.0",
            "_model_module": "@jupyter-widgets/controls"
          }
        },
        "20f8592a05614c449690acd9f0355c5d": {
          "model_module": "@jupyter-widgets/base",
          "model_name": "LayoutModel",
          "state": {
            "_view_name": "LayoutView",
            "grid_template_rows": null,
            "right": null,
            "justify_content": null,
            "_view_module": "@jupyter-widgets/base",
            "overflow": null,
            "_model_module_version": "1.2.0",
            "_view_count": null,
            "flex_flow": null,
            "width": null,
            "min_width": null,
            "border": null,
            "align_items": null,
            "bottom": null,
            "_model_module": "@jupyter-widgets/base",
            "top": null,
            "grid_column": null,
            "overflow_y": null,
            "overflow_x": null,
            "grid_auto_flow": null,
            "grid_area": null,
            "grid_template_columns": null,
            "flex": null,
            "_model_name": "LayoutModel",
            "justify_items": null,
            "grid_row": null,
            "max_height": null,
            "align_content": null,
            "visibility": null,
            "align_self": null,
            "height": null,
            "min_height": null,
            "padding": null,
            "grid_auto_rows": null,
            "grid_gap": null,
            "max_width": null,
            "order": null,
            "_view_module_version": "1.2.0",
            "grid_template_areas": null,
            "object_position": null,
            "object_fit": null,
            "grid_auto_columns": null,
            "margin": null,
            "display": null,
            "left": null
          }
        },
        "d14eecf119cc429a84463d9b4caae444": {
          "model_module": "@jupyter-widgets/controls",
          "model_name": "HBoxModel",
          "state": {
            "_view_name": "HBoxView",
            "_dom_classes": [],
            "_model_name": "HBoxModel",
            "_view_module": "@jupyter-widgets/controls",
            "_model_module_version": "1.5.0",
            "_view_count": null,
            "_view_module_version": "1.5.0",
            "box_style": "",
            "layout": "IPY_MODEL_d9e671ca7ebe4697b1959b435487fe44",
            "_model_module": "@jupyter-widgets/controls",
            "children": [
              "IPY_MODEL_f421af62c706447db47dc89ad88feb80",
              "IPY_MODEL_3918d0839d6e4637985bf9f43bd1db92"
            ]
          }
        },
        "d9e671ca7ebe4697b1959b435487fe44": {
          "model_module": "@jupyter-widgets/base",
          "model_name": "LayoutModel",
          "state": {
            "_view_name": "LayoutView",
            "grid_template_rows": null,
            "right": null,
            "justify_content": null,
            "_view_module": "@jupyter-widgets/base",
            "overflow": null,
            "_model_module_version": "1.2.0",
            "_view_count": null,
            "flex_flow": null,
            "width": null,
            "min_width": null,
            "border": null,
            "align_items": null,
            "bottom": null,
            "_model_module": "@jupyter-widgets/base",
            "top": null,
            "grid_column": null,
            "overflow_y": null,
            "overflow_x": null,
            "grid_auto_flow": null,
            "grid_area": null,
            "grid_template_columns": null,
            "flex": null,
            "_model_name": "LayoutModel",
            "justify_items": null,
            "grid_row": null,
            "max_height": null,
            "align_content": null,
            "visibility": null,
            "align_self": null,
            "height": null,
            "min_height": null,
            "padding": null,
            "grid_auto_rows": null,
            "grid_gap": null,
            "max_width": null,
            "order": null,
            "_view_module_version": "1.2.0",
            "grid_template_areas": null,
            "object_position": null,
            "object_fit": null,
            "grid_auto_columns": null,
            "margin": null,
            "display": null,
            "left": null
          }
        },
        "f421af62c706447db47dc89ad88feb80": {
          "model_module": "@jupyter-widgets/controls",
          "model_name": "FloatProgressModel",
          "state": {
            "_view_name": "ProgressView",
            "style": "IPY_MODEL_47c1356a21d7427e8520bb617a2b2789",
            "_dom_classes": [],
            "description": "Downloading: 100%",
            "_model_name": "FloatProgressModel",
            "bar_style": "success",
            "max": 871891,
            "_view_module": "@jupyter-widgets/controls",
            "_model_module_version": "1.5.0",
            "value": 871891,
            "_view_count": null,
            "_view_module_version": "1.5.0",
            "orientation": "horizontal",
            "min": 0,
            "description_tooltip": null,
            "_model_module": "@jupyter-widgets/controls",
            "layout": "IPY_MODEL_a7f04b66678149a3a2ce0dddc2bf1e65"
          }
        },
        "3918d0839d6e4637985bf9f43bd1db92": {
          "model_module": "@jupyter-widgets/controls",
          "model_name": "HTMLModel",
          "state": {
            "_view_name": "HTMLView",
            "style": "IPY_MODEL_d8eab00489a04adb9dbefcb2556e0319",
            "_dom_classes": [],
            "description": "",
            "_model_name": "HTMLModel",
            "placeholder": "​",
            "_view_module": "@jupyter-widgets/controls",
            "_model_module_version": "1.5.0",
            "value": " 872k/872k [00:00&lt;00:00, 981kB/s]",
            "_view_count": null,
            "_view_module_version": "1.5.0",
            "description_tooltip": null,
            "_model_module": "@jupyter-widgets/controls",
            "layout": "IPY_MODEL_6a0eed00557e4b30a9a23cc51b3acdb2"
          }
        },
        "47c1356a21d7427e8520bb617a2b2789": {
          "model_module": "@jupyter-widgets/controls",
          "model_name": "ProgressStyleModel",
          "state": {
            "_view_name": "StyleView",
            "_model_name": "ProgressStyleModel",
            "description_width": "initial",
            "_view_module": "@jupyter-widgets/base",
            "_model_module_version": "1.5.0",
            "_view_count": null,
            "_view_module_version": "1.2.0",
            "bar_color": null,
            "_model_module": "@jupyter-widgets/controls"
          }
        },
        "a7f04b66678149a3a2ce0dddc2bf1e65": {
          "model_module": "@jupyter-widgets/base",
          "model_name": "LayoutModel",
          "state": {
            "_view_name": "LayoutView",
            "grid_template_rows": null,
            "right": null,
            "justify_content": null,
            "_view_module": "@jupyter-widgets/base",
            "overflow": null,
            "_model_module_version": "1.2.0",
            "_view_count": null,
            "flex_flow": null,
            "width": null,
            "min_width": null,
            "border": null,
            "align_items": null,
            "bottom": null,
            "_model_module": "@jupyter-widgets/base",
            "top": null,
            "grid_column": null,
            "overflow_y": null,
            "overflow_x": null,
            "grid_auto_flow": null,
            "grid_area": null,
            "grid_template_columns": null,
            "flex": null,
            "_model_name": "LayoutModel",
            "justify_items": null,
            "grid_row": null,
            "max_height": null,
            "align_content": null,
            "visibility": null,
            "align_self": null,
            "height": null,
            "min_height": null,
            "padding": null,
            "grid_auto_rows": null,
            "grid_gap": null,
            "max_width": null,
            "order": null,
            "_view_module_version": "1.2.0",
            "grid_template_areas": null,
            "object_position": null,
            "object_fit": null,
            "grid_auto_columns": null,
            "margin": null,
            "display": null,
            "left": null
          }
        },
        "d8eab00489a04adb9dbefcb2556e0319": {
          "model_module": "@jupyter-widgets/controls",
          "model_name": "DescriptionStyleModel",
          "state": {
            "_view_name": "StyleView",
            "_model_name": "DescriptionStyleModel",
            "description_width": "",
            "_view_module": "@jupyter-widgets/base",
            "_model_module_version": "1.5.0",
            "_view_count": null,
            "_view_module_version": "1.2.0",
            "_model_module": "@jupyter-widgets/controls"
          }
        },
        "6a0eed00557e4b30a9a23cc51b3acdb2": {
          "model_module": "@jupyter-widgets/base",
          "model_name": "LayoutModel",
          "state": {
            "_view_name": "LayoutView",
            "grid_template_rows": null,
            "right": null,
            "justify_content": null,
            "_view_module": "@jupyter-widgets/base",
            "overflow": null,
            "_model_module_version": "1.2.0",
            "_view_count": null,
            "flex_flow": null,
            "width": null,
            "min_width": null,
            "border": null,
            "align_items": null,
            "bottom": null,
            "_model_module": "@jupyter-widgets/base",
            "top": null,
            "grid_column": null,
            "overflow_y": null,
            "overflow_x": null,
            "grid_auto_flow": null,
            "grid_area": null,
            "grid_template_columns": null,
            "flex": null,
            "_model_name": "LayoutModel",
            "justify_items": null,
            "grid_row": null,
            "max_height": null,
            "align_content": null,
            "visibility": null,
            "align_self": null,
            "height": null,
            "min_height": null,
            "padding": null,
            "grid_auto_rows": null,
            "grid_gap": null,
            "max_width": null,
            "order": null,
            "_view_module_version": "1.2.0",
            "grid_template_areas": null,
            "object_position": null,
            "object_fit": null,
            "grid_auto_columns": null,
            "margin": null,
            "display": null,
            "left": null
          }
        },
        "678b3284bf7a4faea9a89b73c333f815": {
          "model_module": "@jupyter-widgets/controls",
          "model_name": "HBoxModel",
          "state": {
            "_view_name": "HBoxView",
            "_dom_classes": [],
            "_model_name": "HBoxModel",
            "_view_module": "@jupyter-widgets/controls",
            "_model_module_version": "1.5.0",
            "_view_count": null,
            "_view_module_version": "1.5.0",
            "box_style": "",
            "layout": "IPY_MODEL_0ac287e342bc440db6ed625ac98beb99",
            "_model_module": "@jupyter-widgets/controls",
            "children": [
              "IPY_MODEL_eaa20fead8114d15973f4e4cd0d69c55",
              "IPY_MODEL_501582ee9a2c471184fcd3df3b1814fe"
            ]
          }
        },
        "0ac287e342bc440db6ed625ac98beb99": {
          "model_module": "@jupyter-widgets/base",
          "model_name": "LayoutModel",
          "state": {
            "_view_name": "LayoutView",
            "grid_template_rows": null,
            "right": null,
            "justify_content": null,
            "_view_module": "@jupyter-widgets/base",
            "overflow": null,
            "_model_module_version": "1.2.0",
            "_view_count": null,
            "flex_flow": null,
            "width": null,
            "min_width": null,
            "border": null,
            "align_items": null,
            "bottom": null,
            "_model_module": "@jupyter-widgets/base",
            "top": null,
            "grid_column": null,
            "overflow_y": null,
            "overflow_x": null,
            "grid_auto_flow": null,
            "grid_area": null,
            "grid_template_columns": null,
            "flex": null,
            "_model_name": "LayoutModel",
            "justify_items": null,
            "grid_row": null,
            "max_height": null,
            "align_content": null,
            "visibility": null,
            "align_self": null,
            "height": null,
            "min_height": null,
            "padding": null,
            "grid_auto_rows": null,
            "grid_gap": null,
            "max_width": null,
            "order": null,
            "_view_module_version": "1.2.0",
            "grid_template_areas": null,
            "object_position": null,
            "object_fit": null,
            "grid_auto_columns": null,
            "margin": null,
            "display": null,
            "left": null
          }
        },
        "eaa20fead8114d15973f4e4cd0d69c55": {
          "model_module": "@jupyter-widgets/controls",
          "model_name": "FloatProgressModel",
          "state": {
            "_view_name": "ProgressView",
            "style": "IPY_MODEL_4e0f707bf7644fb9a55db46466812c0c",
            "_dom_classes": [],
            "description": "Downloading: 100%",
            "_model_name": "FloatProgressModel",
            "bar_style": "success",
            "max": 1715180,
            "_view_module": "@jupyter-widgets/controls",
            "_model_module_version": "1.5.0",
            "value": 1715180,
            "_view_count": null,
            "_view_module_version": "1.5.0",
            "orientation": "horizontal",
            "min": 0,
            "description_tooltip": null,
            "_model_module": "@jupyter-widgets/controls",
            "layout": "IPY_MODEL_bfc7f25403fb4e649cd758ea4029f588"
          }
        },
        "501582ee9a2c471184fcd3df3b1814fe": {
          "model_module": "@jupyter-widgets/controls",
          "model_name": "HTMLModel",
          "state": {
            "_view_name": "HTMLView",
            "style": "IPY_MODEL_b900e2ccf0de4adea68ad6571957ec26",
            "_dom_classes": [],
            "description": "",
            "_model_name": "HTMLModel",
            "placeholder": "​",
            "_view_module": "@jupyter-widgets/controls",
            "_model_module_version": "1.5.0",
            "value": " 1.72M/1.72M [00:00&lt;00:00, 6.01MB/s]",
            "_view_count": null,
            "_view_module_version": "1.5.0",
            "description_tooltip": null,
            "_model_module": "@jupyter-widgets/controls",
            "layout": "IPY_MODEL_6d67a7f0d3134509bbb4642987663e91"
          }
        },
        "4e0f707bf7644fb9a55db46466812c0c": {
          "model_module": "@jupyter-widgets/controls",
          "model_name": "ProgressStyleModel",
          "state": {
            "_view_name": "StyleView",
            "_model_name": "ProgressStyleModel",
            "description_width": "initial",
            "_view_module": "@jupyter-widgets/base",
            "_model_module_version": "1.5.0",
            "_view_count": null,
            "_view_module_version": "1.2.0",
            "bar_color": null,
            "_model_module": "@jupyter-widgets/controls"
          }
        },
        "bfc7f25403fb4e649cd758ea4029f588": {
          "model_module": "@jupyter-widgets/base",
          "model_name": "LayoutModel",
          "state": {
            "_view_name": "LayoutView",
            "grid_template_rows": null,
            "right": null,
            "justify_content": null,
            "_view_module": "@jupyter-widgets/base",
            "overflow": null,
            "_model_module_version": "1.2.0",
            "_view_count": null,
            "flex_flow": null,
            "width": null,
            "min_width": null,
            "border": null,
            "align_items": null,
            "bottom": null,
            "_model_module": "@jupyter-widgets/base",
            "top": null,
            "grid_column": null,
            "overflow_y": null,
            "overflow_x": null,
            "grid_auto_flow": null,
            "grid_area": null,
            "grid_template_columns": null,
            "flex": null,
            "_model_name": "LayoutModel",
            "justify_items": null,
            "grid_row": null,
            "max_height": null,
            "align_content": null,
            "visibility": null,
            "align_self": null,
            "height": null,
            "min_height": null,
            "padding": null,
            "grid_auto_rows": null,
            "grid_gap": null,
            "max_width": null,
            "order": null,
            "_view_module_version": "1.2.0",
            "grid_template_areas": null,
            "object_position": null,
            "object_fit": null,
            "grid_auto_columns": null,
            "margin": null,
            "display": null,
            "left": null
          }
        },
        "b900e2ccf0de4adea68ad6571957ec26": {
          "model_module": "@jupyter-widgets/controls",
          "model_name": "DescriptionStyleModel",
          "state": {
            "_view_name": "StyleView",
            "_model_name": "DescriptionStyleModel",
            "description_width": "",
            "_view_module": "@jupyter-widgets/base",
            "_model_module_version": "1.5.0",
            "_view_count": null,
            "_view_module_version": "1.2.0",
            "_model_module": "@jupyter-widgets/controls"
          }
        },
        "6d67a7f0d3134509bbb4642987663e91": {
          "model_module": "@jupyter-widgets/base",
          "model_name": "LayoutModel",
          "state": {
            "_view_name": "LayoutView",
            "grid_template_rows": null,
            "right": null,
            "justify_content": null,
            "_view_module": "@jupyter-widgets/base",
            "overflow": null,
            "_model_module_version": "1.2.0",
            "_view_count": null,
            "flex_flow": null,
            "width": null,
            "min_width": null,
            "border": null,
            "align_items": null,
            "bottom": null,
            "_model_module": "@jupyter-widgets/base",
            "top": null,
            "grid_column": null,
            "overflow_y": null,
            "overflow_x": null,
            "grid_auto_flow": null,
            "grid_area": null,
            "grid_template_columns": null,
            "flex": null,
            "_model_name": "LayoutModel",
            "justify_items": null,
            "grid_row": null,
            "max_height": null,
            "align_content": null,
            "visibility": null,
            "align_self": null,
            "height": null,
            "min_height": null,
            "padding": null,
            "grid_auto_rows": null,
            "grid_gap": null,
            "max_width": null,
            "order": null,
            "_view_module_version": "1.2.0",
            "grid_template_areas": null,
            "object_position": null,
            "object_fit": null,
            "grid_auto_columns": null,
            "margin": null,
            "display": null,
            "left": null
          }
        },
        "f381c52a7d6d407c8c4dab2dc3eef1c8": {
          "model_module": "@jupyter-widgets/controls",
          "model_name": "HBoxModel",
          "state": {
            "_view_name": "HBoxView",
            "_dom_classes": [],
            "_model_name": "HBoxModel",
            "_view_module": "@jupyter-widgets/controls",
            "_model_module_version": "1.5.0",
            "_view_count": null,
            "_view_module_version": "1.5.0",
            "box_style": "",
            "layout": "IPY_MODEL_38a2a15c1dc44d79ac77111629d8af70",
            "_model_module": "@jupyter-widgets/controls",
            "children": [
              "IPY_MODEL_2df3642110994549af38b731064370e5",
              "IPY_MODEL_69182e25d9b844888d559899d746bf3d"
            ]
          }
        },
        "38a2a15c1dc44d79ac77111629d8af70": {
          "model_module": "@jupyter-widgets/base",
          "model_name": "LayoutModel",
          "state": {
            "_view_name": "LayoutView",
            "grid_template_rows": null,
            "right": null,
            "justify_content": null,
            "_view_module": "@jupyter-widgets/base",
            "overflow": null,
            "_model_module_version": "1.2.0",
            "_view_count": null,
            "flex_flow": null,
            "width": null,
            "min_width": null,
            "border": null,
            "align_items": null,
            "bottom": null,
            "_model_module": "@jupyter-widgets/base",
            "top": null,
            "grid_column": null,
            "overflow_y": null,
            "overflow_x": null,
            "grid_auto_flow": null,
            "grid_area": null,
            "grid_template_columns": null,
            "flex": null,
            "_model_name": "LayoutModel",
            "justify_items": null,
            "grid_row": null,
            "max_height": null,
            "align_content": null,
            "visibility": null,
            "align_self": null,
            "height": null,
            "min_height": null,
            "padding": null,
            "grid_auto_rows": null,
            "grid_gap": null,
            "max_width": null,
            "order": null,
            "_view_module_version": "1.2.0",
            "grid_template_areas": null,
            "object_position": null,
            "object_fit": null,
            "grid_auto_columns": null,
            "margin": null,
            "display": null,
            "left": null
          }
        },
        "2df3642110994549af38b731064370e5": {
          "model_module": "@jupyter-widgets/controls",
          "model_name": "FloatProgressModel",
          "state": {
            "_view_name": "ProgressView",
            "style": "IPY_MODEL_d5ec7b5107fe46b7b06797ddf7b22ced",
            "_dom_classes": [],
            "description": "Downloading: 100%",
            "_model_name": "FloatProgressModel",
            "bar_style": "success",
            "max": 672271273,
            "_view_module": "@jupyter-widgets/controls",
            "_model_module_version": "1.5.0",
            "value": 672271273,
            "_view_count": null,
            "_view_module_version": "1.5.0",
            "orientation": "horizontal",
            "min": 0,
            "description_tooltip": null,
            "_model_module": "@jupyter-widgets/controls",
            "layout": "IPY_MODEL_96c20afa3db748be9731ee4cc2591c9d"
          }
        },
        "69182e25d9b844888d559899d746bf3d": {
          "model_module": "@jupyter-widgets/controls",
          "model_name": "HTMLModel",
          "state": {
            "_view_name": "HTMLView",
            "style": "IPY_MODEL_737107e89fa54f018258818f181a0c0d",
            "_dom_classes": [],
            "description": "",
            "_model_name": "HTMLModel",
            "placeholder": "​",
            "_view_module": "@jupyter-widgets/controls",
            "_model_module_version": "1.5.0",
            "value": " 672M/672M [00:53&lt;00:00, 12.7MB/s]",
            "_view_count": null,
            "_view_module_version": "1.5.0",
            "description_tooltip": null,
            "_model_module": "@jupyter-widgets/controls",
            "layout": "IPY_MODEL_dc797c85ef644923a429694295e8df3a"
          }
        },
        "d5ec7b5107fe46b7b06797ddf7b22ced": {
          "model_module": "@jupyter-widgets/controls",
          "model_name": "ProgressStyleModel",
          "state": {
            "_view_name": "StyleView",
            "_model_name": "ProgressStyleModel",
            "description_width": "initial",
            "_view_module": "@jupyter-widgets/base",
            "_model_module_version": "1.5.0",
            "_view_count": null,
            "_view_module_version": "1.2.0",
            "bar_color": null,
            "_model_module": "@jupyter-widgets/controls"
          }
        },
        "96c20afa3db748be9731ee4cc2591c9d": {
          "model_module": "@jupyter-widgets/base",
          "model_name": "LayoutModel",
          "state": {
            "_view_name": "LayoutView",
            "grid_template_rows": null,
            "right": null,
            "justify_content": null,
            "_view_module": "@jupyter-widgets/base",
            "overflow": null,
            "_model_module_version": "1.2.0",
            "_view_count": null,
            "flex_flow": null,
            "width": null,
            "min_width": null,
            "border": null,
            "align_items": null,
            "bottom": null,
            "_model_module": "@jupyter-widgets/base",
            "top": null,
            "grid_column": null,
            "overflow_y": null,
            "overflow_x": null,
            "grid_auto_flow": null,
            "grid_area": null,
            "grid_template_columns": null,
            "flex": null,
            "_model_name": "LayoutModel",
            "justify_items": null,
            "grid_row": null,
            "max_height": null,
            "align_content": null,
            "visibility": null,
            "align_self": null,
            "height": null,
            "min_height": null,
            "padding": null,
            "grid_auto_rows": null,
            "grid_gap": null,
            "max_width": null,
            "order": null,
            "_view_module_version": "1.2.0",
            "grid_template_areas": null,
            "object_position": null,
            "object_fit": null,
            "grid_auto_columns": null,
            "margin": null,
            "display": null,
            "left": null
          }
        },
        "737107e89fa54f018258818f181a0c0d": {
          "model_module": "@jupyter-widgets/controls",
          "model_name": "DescriptionStyleModel",
          "state": {
            "_view_name": "StyleView",
            "_model_name": "DescriptionStyleModel",
            "description_width": "",
            "_view_module": "@jupyter-widgets/base",
            "_model_module_version": "1.5.0",
            "_view_count": null,
            "_view_module_version": "1.2.0",
            "_model_module": "@jupyter-widgets/controls"
          }
        },
        "dc797c85ef644923a429694295e8df3a": {
          "model_module": "@jupyter-widgets/base",
          "model_name": "LayoutModel",
          "state": {
            "_view_name": "LayoutView",
            "grid_template_rows": null,
            "right": null,
            "justify_content": null,
            "_view_module": "@jupyter-widgets/base",
            "overflow": null,
            "_model_module_version": "1.2.0",
            "_view_count": null,
            "flex_flow": null,
            "width": null,
            "min_width": null,
            "border": null,
            "align_items": null,
            "bottom": null,
            "_model_module": "@jupyter-widgets/base",
            "top": null,
            "grid_column": null,
            "overflow_y": null,
            "overflow_x": null,
            "grid_auto_flow": null,
            "grid_area": null,
            "grid_template_columns": null,
            "flex": null,
            "_model_name": "LayoutModel",
            "justify_items": null,
            "grid_row": null,
            "max_height": null,
            "align_content": null,
            "visibility": null,
            "align_self": null,
            "height": null,
            "min_height": null,
            "padding": null,
            "grid_auto_rows": null,
            "grid_gap": null,
            "max_width": null,
            "order": null,
            "_view_module_version": "1.2.0",
            "grid_template_areas": null,
            "object_position": null,
            "object_fit": null,
            "grid_auto_columns": null,
            "margin": null,
            "display": null,
            "left": null
          }
        }
      }
    }
  },
  "cells": [
    {
      "cell_type": "markdown",
      "metadata": {
        "id": "view-in-github",
        "colab_type": "text"
      },
      "source": [
        "<a href=\"https://colab.research.google.com/github/Kontilenia/NLP/blob/main/SpamRecognition.ipynb\" target=\"_parent\"><img src=\"https://colab.research.google.com/assets/colab-badge.svg\" alt=\"Open In Colab\"/></a>"
      ]
    },
    {
      "cell_type": "markdown",
      "metadata": {
        "id": "dVC0TNrIKiN4"
      },
      "source": [
        "# Create neural network that recognise spam SMS."
      ]
    },
    {
      "cell_type": "markdown",
      "metadata": {
        "id": "rRGwHCOsAD-J"
      },
      "source": [
        "Install and import all necessary packages  "
      ]
    },
    {
      "cell_type": "code",
      "metadata": {
        "id": "sBUIgmRCw6Fq"
      },
      "source": [
        "!pip install transformers > /dev/null"
      ],
      "execution_count": null,
      "outputs": []
    },
    {
      "cell_type": "code",
      "metadata": {
        "id": "r9T6oW3OxBkr"
      },
      "source": [
        "import pandas as pd\n",
        "from sklearn.model_selection import train_test_split\n",
        "import tqdm \n",
        "import numpy as np\n",
        "import random\n",
        "import torch\n",
        "import numpy as np\n",
        "import matplotlib.pyplot as plt\n",
        "from torch.utils.data import Dataset, DataLoader\n",
        "from torchvision import transforms, utils, models\n",
        "from transformers import AutoTokenizer, AutoModel\n",
        "from torch import cuda\n",
        "from sklearn.metrics import accuracy_score, f1_score\n",
        "import copy"
      ],
      "execution_count": null,
      "outputs": []
    },
    {
      "cell_type": "markdown",
      "metadata": {
        "id": "bEc1EmluBTSQ"
      },
      "source": [
        "Check in which devide the code is going to run (CPU or GPU)"
      ]
    },
    {
      "cell_type": "code",
      "metadata": {
        "colab": {
          "base_uri": "https://localhost:8080/"
        },
        "id": "25B3zN-DBMFm",
        "outputId": "b32ebdfb-a71a-4269-ce9b-62f5018088be"
      },
      "source": [
        "device = 'cuda' if cuda.is_available() else 'CPU'\n",
        "print('current device is', device)"
      ],
      "execution_count": null,
      "outputs": [
        {
          "output_type": "stream",
          "text": [
            "current device is cuda\n"
          ],
          "name": "stdout"
        }
      ]
    },
    {
      "cell_type": "markdown",
      "metadata": {
        "id": "Gi5PKdgOqxTL"
      },
      "source": [
        "Download dataset from google drive (https://drive.google.com/file/d/1iP1GX9x0QMnid_ZbO5152t_ug9NgdmiG/view?usp=sharing)"
      ]
    },
    {
      "cell_type": "code",
      "metadata": {
        "colab": {
          "base_uri": "https://localhost:8080/"
        },
        "id": "dqwO-Dh9SoPa",
        "outputId": "de512aeb-4e91-4ec8-9229-12fd8ce69862"
      },
      "source": [
        "!mkdir -p /content/data\n",
        "%cd /content/data\n",
        "!gdown --id 1iP1GX9x0QMnid_ZbO5152t_ug9NgdmiG"
      ],
      "execution_count": null,
      "outputs": [
        {
          "output_type": "stream",
          "text": [
            "/content/data\n",
            "Downloading...\n",
            "From: https://drive.google.com/uc?id=1iP1GX9x0QMnid_ZbO5152t_ug9NgdmiG\n",
            "To: /content/data/spam2.csv\n",
            "100% 166k/166k [00:00<00:00, 1.58MB/s]\n"
          ],
          "name": "stdout"
        }
      ]
    },
    {
      "cell_type": "markdown",
      "metadata": {
        "id": "b8CAfabWCeB6"
      },
      "source": [
        "Read the csv file that contains the dataset and create dictionaries for the labels of the dataset (ham or spam)."
      ]
    },
    {
      "cell_type": "code",
      "metadata": {
        "id": "7O9eJEevzoJz"
      },
      "source": [
        "df = pd.read_csv(\"spam2.csv\")\n",
        "label2idx = { label:idx for  idx,label in enumerate(sorted(df.target.unique())) }\n",
        "idx2label = { idx:label for  idx,label in enumerate(sorted(df.target.unique())) }"
      ],
      "execution_count": null,
      "outputs": []
    },
    {
      "cell_type": "markdown",
      "metadata": {
        "id": "t63yFCPHDXC9"
      },
      "source": [
        "set_seed function is used in order to have the same random numbers every time"
      ]
    },
    {
      "cell_type": "code",
      "metadata": {
        "id": "Dgx-_RT4z1sO"
      },
      "source": [
        "def set_seed(seed):\n",
        "    random.seed(seed)\n",
        "    np.random.seed(seed)\n",
        "    torch.manual_seed(seed)\n",
        "    torch.cuda.manual_seed_all(seed)"
      ],
      "execution_count": null,
      "outputs": []
    },
    {
      "cell_type": "markdown",
      "metadata": {
        "id": "gHmCM_k8Ejir"
      },
      "source": [
        "SpamLineByLineDataset class is created in order to handle the dataset. "
      ]
    },
    {
      "cell_type": "code",
      "metadata": {
        "id": "pZS_7Qb8z5s2"
      },
      "source": [
        "class SpamLineByLineDataset(Dataset):\n",
        "\n",
        "    def __init__(self, df, tokenizer,  max_len=100):    \n",
        "\n",
        "    #Arguments:\n",
        "        #df (Dataframe): A Dataframe with the dataset.\n",
        "        #tokenizer: the bert tokenizer \n",
        "        #max_len: The maximum length of the token sequence        \n",
        "        \n",
        "        self.transform = transforms\n",
        "        self.tokenizer = tokenizer\n",
        "        self.df = df \n",
        "        self.max_len = max_len\n",
        "\n",
        "    def __len__(self):\n",
        "        return self.df.shape[0]\n",
        "\n",
        "    def __getitem__(self, idx):\n",
        "        if torch.is_tensor(idx):\n",
        "            idx = idx.tolist()\n",
        "\n",
        "        text = self.df.loc[idx].to_string()      \n",
        "        \n",
        "        if \"target\" in self.df.columns:\n",
        "          target = df.loc[idx].target\n",
        "          label = label2idx[target]\n",
        "        else:\n",
        "          label = -1\n",
        "\n",
        "        inputs = self.tokenizer.encode_plus(\n",
        "            text,\n",
        "            None,\n",
        "            add_special_tokens=True,\n",
        "            max_length=self.max_len,\n",
        "            return_token_type_ids=True,\n",
        "            truncation=True,\n",
        "            padding = \"max_length\"\n",
        "        )\n",
        "        ids = inputs['input_ids']\n",
        "        mask = inputs['attention_mask']\n",
        "        token_type_ids = inputs[\"token_type_ids\"]\n",
        "\n",
        "\n",
        "        return {\n",
        "            'ids': torch.tensor(ids, dtype=torch.long),\n",
        "            'mask': torch.tensor(mask, dtype=torch.long),\n",
        "            'token_type_ids': torch.tensor(token_type_ids, dtype=torch.long),\n",
        "            'label': torch.tensor(label, dtype=torch.int64), \n",
        "            'text' : text\n",
        "        }"
      ],
      "execution_count": null,
      "outputs": []
    },
    {
      "cell_type": "markdown",
      "metadata": {
        "id": "Usau8wT-MNT8"
      },
      "source": [
        "Load BERT and use it to create a SpamLineByLineDataset Object"
      ]
    },
    {
      "cell_type": "code",
      "metadata": {
        "id": "50HHo9GHz7on",
        "colab": {
          "base_uri": "https://localhost:8080/",
          "height": 218,
          "referenced_widgets": [
            "871b83c4e25d497fb7f35a136d5e1397",
            "39c4253402a24aa797dde6e02f8d8e0b",
            "9f21193885d54e299c282957d0fde8df",
            "db526611746b43af938e865603b86a6a",
            "90fb484052e2402e9c736fd02ae7e174",
            "7bdc42d7bb72451896198a0b8ab3c0ab",
            "b67850f00dc3467ea8c42b7109dd21de",
            "078b5e25aee04a0293e6702a44552d73",
            "9bf768afe93c49fa948824375a32f1f3",
            "f56e29d4876141f2bb187f68e49c6146",
            "493f977bcf1a4bc6a80b669b4e6eb8cc",
            "66f8fdfffedb4d8e9293a60055789e77",
            "2c5d920a33174870a54a2c1f43d63be4",
            "603665c0d089435a9e594c5efae76d9d",
            "a925f0793e324a8bbec0ab8b56558872",
            "20f8592a05614c449690acd9f0355c5d",
            "d14eecf119cc429a84463d9b4caae444",
            "d9e671ca7ebe4697b1959b435487fe44",
            "f421af62c706447db47dc89ad88feb80",
            "3918d0839d6e4637985bf9f43bd1db92",
            "47c1356a21d7427e8520bb617a2b2789",
            "a7f04b66678149a3a2ce0dddc2bf1e65",
            "d8eab00489a04adb9dbefcb2556e0319",
            "6a0eed00557e4b30a9a23cc51b3acdb2",
            "678b3284bf7a4faea9a89b73c333f815",
            "0ac287e342bc440db6ed625ac98beb99",
            "eaa20fead8114d15973f4e4cd0d69c55",
            "501582ee9a2c471184fcd3df3b1814fe",
            "4e0f707bf7644fb9a55db46466812c0c",
            "bfc7f25403fb4e649cd758ea4029f588",
            "b900e2ccf0de4adea68ad6571957ec26",
            "6d67a7f0d3134509bbb4642987663e91"
          ]
        },
        "outputId": "75e8b27b-6074-4637-e57c-1f1c07b71f8f"
      },
      "source": [
        "base_model = \"bert-base-multilingual-uncased\"\n",
        "tokenizer = AutoTokenizer.from_pretrained(base_model)\n",
        "ds = SpamLineByLineDataset(df, tokenizer=tokenizer) "
      ],
      "execution_count": null,
      "outputs": [
        {
          "output_type": "display_data",
          "data": {
            "application/vnd.jupyter.widget-view+json": {
              "model_id": "871b83c4e25d497fb7f35a136d5e1397",
              "version_minor": 0,
              "version_major": 2
            },
            "text/plain": [
              "HBox(children=(FloatProgress(value=0.0, description='Downloading', max=28.0, style=ProgressStyle(description_w…"
            ]
          },
          "metadata": {
            "tags": []
          }
        },
        {
          "output_type": "stream",
          "text": [
            "\n"
          ],
          "name": "stdout"
        },
        {
          "output_type": "display_data",
          "data": {
            "application/vnd.jupyter.widget-view+json": {
              "model_id": "9bf768afe93c49fa948824375a32f1f3",
              "version_minor": 0,
              "version_major": 2
            },
            "text/plain": [
              "HBox(children=(FloatProgress(value=0.0, description='Downloading', max=625.0, style=ProgressStyle(description_…"
            ]
          },
          "metadata": {
            "tags": []
          }
        },
        {
          "output_type": "stream",
          "text": [
            "\n"
          ],
          "name": "stdout"
        },
        {
          "output_type": "display_data",
          "data": {
            "application/vnd.jupyter.widget-view+json": {
              "model_id": "d14eecf119cc429a84463d9b4caae444",
              "version_minor": 0,
              "version_major": 2
            },
            "text/plain": [
              "HBox(children=(FloatProgress(value=0.0, description='Downloading', max=871891.0, style=ProgressStyle(descripti…"
            ]
          },
          "metadata": {
            "tags": []
          }
        },
        {
          "output_type": "stream",
          "text": [
            "\n"
          ],
          "name": "stdout"
        },
        {
          "output_type": "display_data",
          "data": {
            "application/vnd.jupyter.widget-view+json": {
              "model_id": "678b3284bf7a4faea9a89b73c333f815",
              "version_minor": 0,
              "version_major": 2
            },
            "text/plain": [
              "HBox(children=(FloatProgress(value=0.0, description='Downloading', max=1715180.0, style=ProgressStyle(descript…"
            ]
          },
          "metadata": {
            "tags": []
          }
        },
        {
          "output_type": "stream",
          "text": [
            "\n"
          ],
          "name": "stdout"
        }
      ]
    },
    {
      "cell_type": "markdown",
      "metadata": {
        "id": "8PHmFR0HMyUA"
      },
      "source": [
        "Split the dataset in train and test sets. The train set is 80% of the dataset and the train set is 20% of the dataset."
      ]
    },
    {
      "cell_type": "code",
      "metadata": {
        "id": "CvHmU2mGz_uA"
      },
      "source": [
        "set_seed(0)\n",
        "test_size = int(len(ds)*0.2)\n",
        "train_set, test_set = torch.utils.data.random_split(ds, [len(ds)-test_size, test_size])"
      ],
      "execution_count": null,
      "outputs": []
    },
    {
      "cell_type": "markdown",
      "metadata": {
        "id": "iFP6DphjNzyk"
      },
      "source": [
        "SpamText class is created in order to handle the BERT pretrained neural network. "
      ]
    },
    {
      "cell_type": "code",
      "metadata": {
        "id": "8qpAcAW-0EfE"
      },
      "source": [
        "class SpamText(torch.nn.Module):\n",
        "    def __init__(self, base_model, num_outputs):\n",
        "        super(SpamText, self).__init__()\n",
        "        self.l1 = AutoModel.from_pretrained(base_model)\n",
        "        self.linear = torch.nn.Linear(768 , num_outputs)\n",
        "    \n",
        "    def forward(self, ids, mask, token_type_ids ):\n",
        "        text_feats =  self.l1(ids, attention_mask = mask, token_type_ids = token_type_ids)['pooler_output']\n",
        "        output = self.linear(text_feats)\n",
        "        return output\n",
        "        return text_feats"
      ],
      "execution_count": null,
      "outputs": []
    },
    {
      "cell_type": "markdown",
      "metadata": {
        "id": "MpfIKHsR9AF0"
      },
      "source": [
        "Train function is used to train neural network by updating its weights."
      ]
    },
    {
      "cell_type": "code",
      "metadata": {
        "id": "alANmpO40M6d"
      },
      "source": [
        "def train(epoch, model, optimizer, criterion, training_loader):\n",
        "    model.train()\n",
        "\n",
        "    losses = [] \n",
        "    for _,data in enumerate(training_loader, 0):\n",
        "    \n",
        "        ids = data['ids'].to(device, dtype = torch.long)\n",
        "        mask = data['mask'].to(device, dtype = torch.long)\n",
        "        token_type_ids = data['token_type_ids'].to(device, dtype = torch.long)\n",
        "        targets = data['label'].to(device, dtype = torch.int64)\n",
        "        \n",
        "        outputs = model(ids, mask, token_type_ids)\n",
        "\n",
        "        optimizer.zero_grad()\n",
        "\n",
        "\n",
        "        loss = criterion(outputs, targets)\n",
        "        losses.append( loss.item())\n",
        "      \n",
        "        loss.backward()\n",
        "        optimizer.step()\n",
        "\n",
        "    print( f\"Epoch {epoch}, mean epoch loss={np.mean(losses):.4}\")"
      ],
      "execution_count": null,
      "outputs": []
    },
    {
      "cell_type": "markdown",
      "metadata": {
        "id": "oVs0oFsu93PR"
      },
      "source": [
        "Validation function is used to take the ouputs of the neural network without updating its weights.   "
      ]
    },
    {
      "cell_type": "code",
      "metadata": {
        "id": "SpqXORdt91FK"
      },
      "source": [
        "def validation(model, testing_loader):\n",
        "    model.eval()\n",
        "    fin_targets=[]\n",
        "    fin_outputs=[]\n",
        "    with torch.no_grad():\n",
        "        for _, data in enumerate(testing_loader, 0):\n",
        "            \n",
        "            ids = data['ids'].to(device, dtype = torch.long)\n",
        "            mask = data['mask'].to(device, dtype = torch.long)\n",
        "            token_type_ids = data['token_type_ids'].to(device, dtype = torch.long)\n",
        "            targets = data['label'].to(device, dtype = torch.int64) \n",
        "                       \n",
        "            outputs = model(ids, mask, token_type_ids)\n",
        "\n",
        "            fin_targets.extend(targets.cpu().detach().numpy().tolist())\n",
        "            fin_outputs.extend(torch.argmax(outputs, dim=1).cpu().detach().numpy().tolist())\n",
        "    \n",
        "    fin_outputs = np.array(fin_outputs)\n",
        "    return fin_outputs, fin_targets"
      ],
      "execution_count": null,
      "outputs": []
    },
    {
      "cell_type": "markdown",
      "metadata": {
        "id": "vfX7NsASHgRf"
      },
      "source": [
        "Clear cache memory of GPU and call set_seed function to take the same random numbers. Also, create two DataLoaders with train and test set. Train set is need to be shuffled for better performance.   "
      ]
    },
    {
      "cell_type": "code",
      "metadata": {
        "id": "kcQJlrAF0SNt"
      },
      "source": [
        "torch.cuda.empty_cache()\n",
        "set_seed(0)\n",
        "train_loader = DataLoader(train_set, batch_size=8, shuffle=True)\n",
        "test_loader = DataLoader(test_set, batch_size=8, shuffle=False)"
      ],
      "execution_count": null,
      "outputs": []
    },
    {
      "cell_type": "markdown",
      "metadata": {
        "id": "hshp9nc-Ialc"
      },
      "source": [
        "Train neular network for one epoch. This code works also for more epochs. In this case only the model with the greatest accuracy is taken. "
      ]
    },
    {
      "cell_type": "code",
      "metadata": {
        "id": "_SX-bk_z0TI6",
        "colab": {
          "base_uri": "https://localhost:8080/",
          "height": 251,
          "referenced_widgets": [
            "f381c52a7d6d407c8c4dab2dc3eef1c8",
            "38a2a15c1dc44d79ac77111629d8af70",
            "2df3642110994549af38b731064370e5",
            "69182e25d9b844888d559899d746bf3d",
            "d5ec7b5107fe46b7b06797ddf7b22ced",
            "96c20afa3db748be9731ee4cc2591c9d",
            "737107e89fa54f018258818f181a0c0d",
            "dc797c85ef644923a429694295e8df3a"
          ]
        },
        "outputId": "d2bb1673-1b19-45ef-f1fd-a4f124cc2350"
      },
      "source": [
        "set_seed(0)\n",
        "\n",
        "best_score = 0 \n",
        "model = SpamText(base_model=base_model, num_outputs=len(idx2label)).to(device)\n",
        "LEARNING_RATE = 1e-05\n",
        "optimizer = torch.optim.Adam(params =  model.parameters(), lr=LEARNING_RATE) \n",
        "criterion = torch.nn.CrossEntropyLoss()\n",
        "best_model_wts = copy.deepcopy(model.state_dict())\n",
        "EPOCHS = 1\n",
        "\n",
        "for epoch in range(EPOCHS):\n",
        "    train(epoch, model, optimizer, criterion, training_loader=train_loader)\n",
        "    outputs, targets = validation(model=model, testing_loader=test_loader)\n",
        "    \n",
        "    outputs = outputs.reshape(-1)\n",
        "    targets = np.array(targets)\n",
        "    accuracy = accuracy_score(targets, outputs)\n",
        "\n",
        "    print(f\"Epoch {epoch}, accuracy Score = {accuracy}\")\n",
        "    \n",
        "    print(100*\"-\")\n",
        "    if accuracy > best_score:\n",
        "        best_score = accuracy\n",
        "        best_model_wts = copy.deepcopy(model.state_dict())\n",
        "\n",
        "        print(f\"Best Accuracy Score = {accuracy}\")\n",
        "\n",
        "        print(100*\"-\")\n",
        "  \n",
        "model.load_state_dict(best_model_wts)"
      ],
      "execution_count": null,
      "outputs": [
        {
          "output_type": "display_data",
          "data": {
            "application/vnd.jupyter.widget-view+json": {
              "model_id": "f381c52a7d6d407c8c4dab2dc3eef1c8",
              "version_minor": 0,
              "version_major": 2
            },
            "text/plain": [
              "HBox(children=(FloatProgress(value=0.0, description='Downloading', max=672271273.0, style=ProgressStyle(descri…"
            ]
          },
          "metadata": {
            "tags": []
          }
        },
        {
          "output_type": "stream",
          "text": [
            "\n"
          ],
          "name": "stdout"
        },
        {
          "output_type": "stream",
          "text": [
            "Some weights of the model checkpoint at bert-base-multilingual-uncased were not used when initializing BertModel: ['cls.predictions.transform.dense.weight', 'cls.seq_relationship.bias', 'cls.predictions.transform.LayerNorm.weight', 'cls.seq_relationship.weight', 'cls.predictions.transform.LayerNorm.bias', 'cls.predictions.decoder.weight', 'cls.predictions.bias', 'cls.predictions.transform.dense.bias']\n",
            "- This IS expected if you are initializing BertModel from the checkpoint of a model trained on another task or with another architecture (e.g. initializing a BertForSequenceClassification model from a BertForPreTraining model).\n",
            "- This IS NOT expected if you are initializing BertModel from the checkpoint of a model that you expect to be exactly identical (initializing a BertForSequenceClassification model from a BertForSequenceClassification model).\n"
          ],
          "name": "stderr"
        },
        {
          "output_type": "stream",
          "text": [
            "Epoch 0, mean epoch loss=0.1184\n",
            "Epoch 0, accuracy Score = 1.0\n",
            "----------------------------------------------------------------------------------------------------\n",
            "Best Accuracy Score = 1.0\n",
            "----------------------------------------------------------------------------------------------------\n"
          ],
          "name": "stdout"
        },
        {
          "output_type": "execute_result",
          "data": {
            "text/plain": [
              "<All keys matched successfully>"
            ]
          },
          "metadata": {
            "tags": []
          },
          "execution_count": 14
        }
      ]
    },
    {
      "cell_type": "markdown",
      "metadata": {
        "id": "PgyD5r45KQqT"
      },
      "source": [
        "Save the model."
      ]
    },
    {
      "cell_type": "code",
      "metadata": {
        "id": "XtaXlS6eTV6u"
      },
      "source": [
        "torch.save( model , f\"./spam_model.pth\" )"
      ],
      "execution_count": null,
      "outputs": []
    },
    {
      "cell_type": "markdown",
      "metadata": {
        "id": "WK-UB_3KKWR_"
      },
      "source": [
        "# Test neural network"
      ]
    },
    {
      "cell_type": "markdown",
      "metadata": {
        "id": "ARin-AEaMXQV"
      },
      "source": [
        "Load trained neural network"
      ]
    },
    {
      "cell_type": "code",
      "metadata": {
        "id": "j4z889B60S3d"
      },
      "source": [
        "model = torch.load( f\"./spam_model.pth\" )"
      ],
      "execution_count": null,
      "outputs": []
    },
    {
      "cell_type": "markdown",
      "metadata": {
        "id": "L-OLeOWHUWea"
      },
      "source": [
        "Give two texts as an imput in order to test neural network results."
      ]
    },
    {
      "cell_type": "code",
      "metadata": {
        "id": "VtryUdZUOz2D"
      },
      "source": [
        "#@title Give a text { display-mode: \"form\" }\n",
        "user_text_1 = \"\\\"Call 8956743562 to take free credit!\" #@param {type:\"string\"}\n",
        "user_text_2 = \"Call dad for goodnight\" #@param {type:\"string\"}\n"
      ],
      "execution_count": 29,
      "outputs": []
    },
    {
      "cell_type": "markdown",
      "metadata": {
        "id": "ShOZPNNBMa-Y"
      },
      "source": [
        "Calculate the result of neural network on some phrases. Use argmax function to calculate probabilities for every class and make a bar diagram."
      ]
    },
    {
      "cell_type": "code",
      "metadata": {
        "id": "WtzK2XCZ3MSl",
        "colab": {
          "base_uri": "https://localhost:8080/",
          "height": 660
        },
        "outputId": "fbbf3b6e-33c8-4d10-ad83-edd978550c79"
      },
      "source": [
        "model.eval()\n",
        "df_test = pd.DataFrame( data = [user_text_1,user_text_2],\n",
        "                       columns= [\"tweet\"])\n",
        "\n",
        "ds_test = SpamLineByLineDataset(df_test, tokenizer=tokenizer)\n",
        "dl_test = DataLoader(ds_test, batch_size = 8, shuffle=False)\n",
        "\n",
        "data = next(iter(dl_test)) \n",
        "\n",
        "ids = data['ids'].to(device, dtype = torch.long)\n",
        "mask = data['mask'].to(device, dtype = torch.long)\n",
        "token_type_ids = data['token_type_ids'].to(device, dtype = torch.long)\n",
        "targets = data['label'].to(device, dtype = torch.int64)\n",
        "\n",
        "outputs = model(ids, mask, token_type_ids)\n",
        "\n",
        "predicted_label = outputs.argmax(dim=1).cpu().numpy()\n",
        "\n",
        "probs = torch.softmax( outputs, dim=1).detach().cpu().numpy()\n",
        "\n",
        "for idx, l in enumerate(predicted_label):\n",
        "\n",
        "  print( f\" text: {df_test.loc[idx].tweet[:]} \\n label: {idx2label[l]} \\n probability to be spam: {probs[idx][label2idx['spam']]}\")\n",
        "  plt.bar( range(2), height=probs[idx])\n",
        "  plt.xticks( range(2), label2idx.keys(), rotation='60')\n",
        "  plt.show()\n",
        "  "
      ],
      "execution_count": 30,
      "outputs": [
        {
          "output_type": "stream",
          "text": [
            " text: \"Call 8956743562 to take free credit! \n",
            " label: spam \n",
            " probability to be spam: 0.8911893963813782\n"
          ],
          "name": "stdout"
        },
        {
          "output_type": "display_data",
          "data": {
            "image/png": "[encoded data removed]",
            "text/plain": [
              "<Figure size 432x288 with 1 Axes>"
            ]
          },
          "metadata": {
            "tags": [],
            "needs_background": "light"
          }
        },
        {
          "output_type": "stream",
          "text": [
            " text: Call dad for goodnight \n",
            " label: ham \n",
            " probability to be spam: 0.029156267642974854\n"
          ],
          "name": "stdout"
        },
        {
          "output_type": "display_data",
          "data": {
            "image/png": "[encoded data removed]",
            "text/plain": [
              "<Figure size 432x288 with 1 Axes>"
            ]
          },
          "metadata": {
            "tags": [],
            "needs_background": "light"
          }
        }
      ]
    }
  ]
}