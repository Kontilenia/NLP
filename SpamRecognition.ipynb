{
  "nbformat": 4,
  "nbformat_minor": 0,
  "metadata": {
    "colab": {
      "name": "SpamRecognition.ipynb",
      "provenance": [],
      "authorship_tag": "ABX9TyNLSEN2NbMwC4KIMlK8iCPc",
      "include_colab_link": true
    },
    "kernelspec": {
      "name": "python3",
      "display_name": "Python 3"
    },
    "language_info": {
      "name": "python"
    },
    "accelerator": "GPU",
    "widgets": {
      "application/vnd.jupyter.widget-state+json": {
        "65abc25a64d843eca6596a8dd8f5d3fb": {
          "model_module": "@jupyter-widgets/controls",
          "model_name": "HBoxModel",
          "state": {
            "_view_name": "HBoxView",
            "_dom_classes": [],
            "_model_name": "HBoxModel",
            "_view_module": "@jupyter-widgets/controls",
            "_model_module_version": "1.5.0",
            "_view_count": null,
            "_view_module_version": "1.5.0",
            "box_style": "",
            "layout": "IPY_MODEL_1c8fa3ec80c74cb69f9fe5112459bdee",
            "_model_module": "@jupyter-widgets/controls",
            "children": [
              "IPY_MODEL_d25bbc1ca53d44318f37e212da11cf89",
              "IPY_MODEL_088a1fcefe314ed88d0adcbebd725011"
            ]
          }
        },
        "1c8fa3ec80c74cb69f9fe5112459bdee": {
          "model_module": "@jupyter-widgets/base",
          "model_name": "LayoutModel",
          "state": {
            "_view_name": "LayoutView",
            "grid_template_rows": null,
            "right": null,
            "justify_content": null,
            "_view_module": "@jupyter-widgets/base",
            "overflow": null,
            "_model_module_version": "1.2.0",
            "_view_count": null,
            "flex_flow": null,
            "width": null,
            "min_width": null,
            "border": null,
            "align_items": null,
            "bottom": null,
            "_model_module": "@jupyter-widgets/base",
            "top": null,
            "grid_column": null,
            "overflow_y": null,
            "overflow_x": null,
            "grid_auto_flow": null,
            "grid_area": null,
            "grid_template_columns": null,
            "flex": null,
            "_model_name": "LayoutModel",
            "justify_items": null,
            "grid_row": null,
            "max_height": null,
            "align_content": null,
            "visibility": null,
            "align_self": null,
            "height": null,
            "min_height": null,
            "padding": null,
            "grid_auto_rows": null,
            "grid_gap": null,
            "max_width": null,
            "order": null,
            "_view_module_version": "1.2.0",
            "grid_template_areas": null,
            "object_position": null,
            "object_fit": null,
            "grid_auto_columns": null,
            "margin": null,
            "display": null,
            "left": null
          }
        },
        "d25bbc1ca53d44318f37e212da11cf89": {
          "model_module": "@jupyter-widgets/controls",
          "model_name": "FloatProgressModel",
          "state": {
            "_view_name": "ProgressView",
            "style": "IPY_MODEL_53929e7c0541457a98123c5441656d0e",
            "_dom_classes": [],
            "description": "Downloading: 100%",
            "_model_name": "FloatProgressModel",
            "bar_style": "success",
            "max": 28,
            "_view_module": "@jupyter-widgets/controls",
            "_model_module_version": "1.5.0",
            "value": 28,
            "_view_count": null,
            "_view_module_version": "1.5.0",
            "orientation": "horizontal",
            "min": 0,
            "description_tooltip": null,
            "_model_module": "@jupyter-widgets/controls",
            "layout": "IPY_MODEL_7ba6752d47c94cd096e0b0940f9aa40a"
          }
        },
        "088a1fcefe314ed88d0adcbebd725011": {
          "model_module": "@jupyter-widgets/controls",
          "model_name": "HTMLModel",
          "state": {
            "_view_name": "HTMLView",
            "style": "IPY_MODEL_3baf6f785cbb4bd99efff40422d8785c",
            "_dom_classes": [],
            "description": "",
            "_model_name": "HTMLModel",
            "placeholder": "​",
            "_view_module": "@jupyter-widgets/controls",
            "_model_module_version": "1.5.0",
            "value": " 28.0/28.0 [00:00&lt;00:00, 44.1B/s]",
            "_view_count": null,
            "_view_module_version": "1.5.0",
            "description_tooltip": null,
            "_model_module": "@jupyter-widgets/controls",
            "layout": "IPY_MODEL_34b0636c05124914b38e86066c815a7c"
          }
        },
        "53929e7c0541457a98123c5441656d0e": {
          "model_module": "@jupyter-widgets/controls",
          "model_name": "ProgressStyleModel",
          "state": {
            "_view_name": "StyleView",
            "_model_name": "ProgressStyleModel",
            "description_width": "initial",
            "_view_module": "@jupyter-widgets/base",
            "_model_module_version": "1.5.0",
            "_view_count": null,
            "_view_module_version": "1.2.0",
            "bar_color": null,
            "_model_module": "@jupyter-widgets/controls"
          }
        },
        "7ba6752d47c94cd096e0b0940f9aa40a": {
          "model_module": "@jupyter-widgets/base",
          "model_name": "LayoutModel",
          "state": {
            "_view_name": "LayoutView",
            "grid_template_rows": null,
            "right": null,
            "justify_content": null,
            "_view_module": "@jupyter-widgets/base",
            "overflow": null,
            "_model_module_version": "1.2.0",
            "_view_count": null,
            "flex_flow": null,
            "width": null,
            "min_width": null,
            "border": null,
            "align_items": null,
            "bottom": null,
            "_model_module": "@jupyter-widgets/base",
            "top": null,
            "grid_column": null,
            "overflow_y": null,
            "overflow_x": null,
            "grid_auto_flow": null,
            "grid_area": null,
            "grid_template_columns": null,
            "flex": null,
            "_model_name": "LayoutModel",
            "justify_items": null,
            "grid_row": null,
            "max_height": null,
            "align_content": null,
            "visibility": null,
            "align_self": null,
            "height": null,
            "min_height": null,
            "padding": null,
            "grid_auto_rows": null,
            "grid_gap": null,
            "max_width": null,
            "order": null,
            "_view_module_version": "1.2.0",
            "grid_template_areas": null,
            "object_position": null,
            "object_fit": null,
            "grid_auto_columns": null,
            "margin": null,
            "display": null,
            "left": null
          }
        },
        "3baf6f785cbb4bd99efff40422d8785c": {
          "model_module": "@jupyter-widgets/controls",
          "model_name": "DescriptionStyleModel",
          "state": {
            "_view_name": "StyleView",
            "_model_name": "DescriptionStyleModel",
            "description_width": "",
            "_view_module": "@jupyter-widgets/base",
            "_model_module_version": "1.5.0",
            "_view_count": null,
            "_view_module_version": "1.2.0",
            "_model_module": "@jupyter-widgets/controls"
          }
        },
        "34b0636c05124914b38e86066c815a7c": {
          "model_module": "@jupyter-widgets/base",
          "model_name": "LayoutModel",
          "state": {
            "_view_name": "LayoutView",
            "grid_template_rows": null,
            "right": null,
            "justify_content": null,
            "_view_module": "@jupyter-widgets/base",
            "overflow": null,
            "_model_module_version": "1.2.0",
            "_view_count": null,
            "flex_flow": null,
            "width": null,
            "min_width": null,
            "border": null,
            "align_items": null,
            "bottom": null,
            "_model_module": "@jupyter-widgets/base",
            "top": null,
            "grid_column": null,
            "overflow_y": null,
            "overflow_x": null,
            "grid_auto_flow": null,
            "grid_area": null,
            "grid_template_columns": null,
            "flex": null,
            "_model_name": "LayoutModel",
            "justify_items": null,
            "grid_row": null,
            "max_height": null,
            "align_content": null,
            "visibility": null,
            "align_self": null,
            "height": null,
            "min_height": null,
            "padding": null,
            "grid_auto_rows": null,
            "grid_gap": null,
            "max_width": null,
            "order": null,
            "_view_module_version": "1.2.0",
            "grid_template_areas": null,
            "object_position": null,
            "object_fit": null,
            "grid_auto_columns": null,
            "margin": null,
            "display": null,
            "left": null
          }
        },
        "88ea7ee6b31e49e180b0f43b07e49148": {
          "model_module": "@jupyter-widgets/controls",
          "model_name": "HBoxModel",
          "state": {
            "_view_name": "HBoxView",
            "_dom_classes": [],
            "_model_name": "HBoxModel",
            "_view_module": "@jupyter-widgets/controls",
            "_model_module_version": "1.5.0",
            "_view_count": null,
            "_view_module_version": "1.5.0",
            "box_style": "",
            "layout": "IPY_MODEL_85c5ad9d48c44a85aedc66b63d3b77b9",
            "_model_module": "@jupyter-widgets/controls",
            "children": [
              "IPY_MODEL_22283598d9254b7c9693ccd619d5fa53",
              "IPY_MODEL_27a0042bc62e414ebb296b66aee3ec87"
            ]
          }
        },
        "85c5ad9d48c44a85aedc66b63d3b77b9": {
          "model_module": "@jupyter-widgets/base",
          "model_name": "LayoutModel",
          "state": {
            "_view_name": "LayoutView",
            "grid_template_rows": null,
            "right": null,
            "justify_content": null,
            "_view_module": "@jupyter-widgets/base",
            "overflow": null,
            "_model_module_version": "1.2.0",
            "_view_count": null,
            "flex_flow": null,
            "width": null,
            "min_width": null,
            "border": null,
            "align_items": null,
            "bottom": null,
            "_model_module": "@jupyter-widgets/base",
            "top": null,
            "grid_column": null,
            "overflow_y": null,
            "overflow_x": null,
            "grid_auto_flow": null,
            "grid_area": null,
            "grid_template_columns": null,
            "flex": null,
            "_model_name": "LayoutModel",
            "justify_items": null,
            "grid_row": null,
            "max_height": null,
            "align_content": null,
            "visibility": null,
            "align_self": null,
            "height": null,
            "min_height": null,
            "padding": null,
            "grid_auto_rows": null,
            "grid_gap": null,
            "max_width": null,
            "order": null,
            "_view_module_version": "1.2.0",
            "grid_template_areas": null,
            "object_position": null,
            "object_fit": null,
            "grid_auto_columns": null,
            "margin": null,
            "display": null,
            "left": null
          }
        },
        "22283598d9254b7c9693ccd619d5fa53": {
          "model_module": "@jupyter-widgets/controls",
          "model_name": "FloatProgressModel",
          "state": {
            "_view_name": "ProgressView",
            "style": "IPY_MODEL_9ba2ccbc311d437b92c0c76d1dba97b9",
            "_dom_classes": [],
            "description": "Downloading: 100%",
            "_model_name": "FloatProgressModel",
            "bar_style": "success",
            "max": 625,
            "_view_module": "@jupyter-widgets/controls",
            "_model_module_version": "1.5.0",
            "value": 625,
            "_view_count": null,
            "_view_module_version": "1.5.0",
            "orientation": "horizontal",
            "min": 0,
            "description_tooltip": null,
            "_model_module": "@jupyter-widgets/controls",
            "layout": "IPY_MODEL_f9839bd6ae0f44debf297a915239c674"
          }
        },
        "27a0042bc62e414ebb296b66aee3ec87": {
          "model_module": "@jupyter-widgets/controls",
          "model_name": "HTMLModel",
          "state": {
            "_view_name": "HTMLView",
            "style": "IPY_MODEL_f956a8615d084bd8851c40655fe174ae",
            "_dom_classes": [],
            "description": "",
            "_model_name": "HTMLModel",
            "placeholder": "​",
            "_view_module": "@jupyter-widgets/controls",
            "_model_module_version": "1.5.0",
            "value": " 625/625 [00:00&lt;00:00, 15.4kB/s]",
            "_view_count": null,
            "_view_module_version": "1.5.0",
            "description_tooltip": null,
            "_model_module": "@jupyter-widgets/controls",
            "layout": "IPY_MODEL_1ec3710aea8548059735ca16adbfad48"
          }
        },
        "9ba2ccbc311d437b92c0c76d1dba97b9": {
          "model_module": "@jupyter-widgets/controls",
          "model_name": "ProgressStyleModel",
          "state": {
            "_view_name": "StyleView",
            "_model_name": "ProgressStyleModel",
            "description_width": "initial",
            "_view_module": "@jupyter-widgets/base",
            "_model_module_version": "1.5.0",
            "_view_count": null,
            "_view_module_version": "1.2.0",
            "bar_color": null,
            "_model_module": "@jupyter-widgets/controls"
          }
        },
        "f9839bd6ae0f44debf297a915239c674": {
          "model_module": "@jupyter-widgets/base",
          "model_name": "LayoutModel",
          "state": {
            "_view_name": "LayoutView",
            "grid_template_rows": null,
            "right": null,
            "justify_content": null,
            "_view_module": "@jupyter-widgets/base",
            "overflow": null,
            "_model_module_version": "1.2.0",
            "_view_count": null,
            "flex_flow": null,
            "width": null,
            "min_width": null,
            "border": null,
            "align_items": null,
            "bottom": null,
            "_model_module": "@jupyter-widgets/base",
            "top": null,
            "grid_column": null,
            "overflow_y": null,
            "overflow_x": null,
            "grid_auto_flow": null,
            "grid_area": null,
            "grid_template_columns": null,
            "flex": null,
            "_model_name": "LayoutModel",
            "justify_items": null,
            "grid_row": null,
            "max_height": null,
            "align_content": null,
            "visibility": null,
            "align_self": null,
            "height": null,
            "min_height": null,
            "padding": null,
            "grid_auto_rows": null,
            "grid_gap": null,
            "max_width": null,
            "order": null,
            "_view_module_version": "1.2.0",
            "grid_template_areas": null,
            "object_position": null,
            "object_fit": null,
            "grid_auto_columns": null,
            "margin": null,
            "display": null,
            "left": null
          }
        },
        "f956a8615d084bd8851c40655fe174ae": {
          "model_module": "@jupyter-widgets/controls",
          "model_name": "DescriptionStyleModel",
          "state": {
            "_view_name": "StyleView",
            "_model_name": "DescriptionStyleModel",
            "description_width": "",
            "_view_module": "@jupyter-widgets/base",
            "_model_module_version": "1.5.0",
            "_view_count": null,
            "_view_module_version": "1.2.0",
            "_model_module": "@jupyter-widgets/controls"
          }
        },
        "1ec3710aea8548059735ca16adbfad48": {
          "model_module": "@jupyter-widgets/base",
          "model_name": "LayoutModel",
          "state": {
            "_view_name": "LayoutView",
            "grid_template_rows": null,
            "right": null,
            "justify_content": null,
            "_view_module": "@jupyter-widgets/base",
            "overflow": null,
            "_model_module_version": "1.2.0",
            "_view_count": null,
            "flex_flow": null,
            "width": null,
            "min_width": null,
            "border": null,
            "align_items": null,
            "bottom": null,
            "_model_module": "@jupyter-widgets/base",
            "top": null,
            "grid_column": null,
            "overflow_y": null,
            "overflow_x": null,
            "grid_auto_flow": null,
            "grid_area": null,
            "grid_template_columns": null,
            "flex": null,
            "_model_name": "LayoutModel",
            "justify_items": null,
            "grid_row": null,
            "max_height": null,
            "align_content": null,
            "visibility": null,
            "align_self": null,
            "height": null,
            "min_height": null,
            "padding": null,
            "grid_auto_rows": null,
            "grid_gap": null,
            "max_width": null,
            "order": null,
            "_view_module_version": "1.2.0",
            "grid_template_areas": null,
            "object_position": null,
            "object_fit": null,
            "grid_auto_columns": null,
            "margin": null,
            "display": null,
            "left": null
          }
        },
        "268b177c127045b68d0e47b9f4c38659": {
          "model_module": "@jupyter-widgets/controls",
          "model_name": "HBoxModel",
          "state": {
            "_view_name": "HBoxView",
            "_dom_classes": [],
            "_model_name": "HBoxModel",
            "_view_module": "@jupyter-widgets/controls",
            "_model_module_version": "1.5.0",
            "_view_count": null,
            "_view_module_version": "1.5.0",
            "box_style": "",
            "layout": "IPY_MODEL_69c63c8ea90d413db01e2e2dd80f28d1",
            "_model_module": "@jupyter-widgets/controls",
            "children": [
              "IPY_MODEL_866cc549b6ff4944b3b50d1d12d3c209",
              "IPY_MODEL_76758d2aafdb41d0ba8af4bee892192f"
            ]
          }
        },
        "69c63c8ea90d413db01e2e2dd80f28d1": {
          "model_module": "@jupyter-widgets/base",
          "model_name": "LayoutModel",
          "state": {
            "_view_name": "LayoutView",
            "grid_template_rows": null,
            "right": null,
            "justify_content": null,
            "_view_module": "@jupyter-widgets/base",
            "overflow": null,
            "_model_module_version": "1.2.0",
            "_view_count": null,
            "flex_flow": null,
            "width": null,
            "min_width": null,
            "border": null,
            "align_items": null,
            "bottom": null,
            "_model_module": "@jupyter-widgets/base",
            "top": null,
            "grid_column": null,
            "overflow_y": null,
            "overflow_x": null,
            "grid_auto_flow": null,
            "grid_area": null,
            "grid_template_columns": null,
            "flex": null,
            "_model_name": "LayoutModel",
            "justify_items": null,
            "grid_row": null,
            "max_height": null,
            "align_content": null,
            "visibility": null,
            "align_self": null,
            "height": null,
            "min_height": null,
            "padding": null,
            "grid_auto_rows": null,
            "grid_gap": null,
            "max_width": null,
            "order": null,
            "_view_module_version": "1.2.0",
            "grid_template_areas": null,
            "object_position": null,
            "object_fit": null,
            "grid_auto_columns": null,
            "margin": null,
            "display": null,
            "left": null
          }
        },
        "866cc549b6ff4944b3b50d1d12d3c209": {
          "model_module": "@jupyter-widgets/controls",
          "model_name": "FloatProgressModel",
          "state": {
            "_view_name": "ProgressView",
            "style": "IPY_MODEL_427cdd88358644aa88302ce4598e448e",
            "_dom_classes": [],
            "description": "Downloading: 100%",
            "_model_name": "FloatProgressModel",
            "bar_style": "success",
            "max": 871891,
            "_view_module": "@jupyter-widgets/controls",
            "_model_module_version": "1.5.0",
            "value": 871891,
            "_view_count": null,
            "_view_module_version": "1.5.0",
            "orientation": "horizontal",
            "min": 0,
            "description_tooltip": null,
            "_model_module": "@jupyter-widgets/controls",
            "layout": "IPY_MODEL_aafc9454b4d2431a848d176ee9562d39"
          }
        },
        "76758d2aafdb41d0ba8af4bee892192f": {
          "model_module": "@jupyter-widgets/controls",
          "model_name": "HTMLModel",
          "state": {
            "_view_name": "HTMLView",
            "style": "IPY_MODEL_153934f42c6640cb98d41dba74f33646",
            "_dom_classes": [],
            "description": "",
            "_model_name": "HTMLModel",
            "placeholder": "​",
            "_view_module": "@jupyter-widgets/controls",
            "_model_module_version": "1.5.0",
            "value": " 872k/872k [00:00&lt;00:00, 1.07MB/s]",
            "_view_count": null,
            "_view_module_version": "1.5.0",
            "description_tooltip": null,
            "_model_module": "@jupyter-widgets/controls",
            "layout": "IPY_MODEL_1e958326e82a4ea7b775ba9ed4fc6859"
          }
        },
        "427cdd88358644aa88302ce4598e448e": {
          "model_module": "@jupyter-widgets/controls",
          "model_name": "ProgressStyleModel",
          "state": {
            "_view_name": "StyleView",
            "_model_name": "ProgressStyleModel",
            "description_width": "initial",
            "_view_module": "@jupyter-widgets/base",
            "_model_module_version": "1.5.0",
            "_view_count": null,
            "_view_module_version": "1.2.0",
            "bar_color": null,
            "_model_module": "@jupyter-widgets/controls"
          }
        },
        "aafc9454b4d2431a848d176ee9562d39": {
          "model_module": "@jupyter-widgets/base",
          "model_name": "LayoutModel",
          "state": {
            "_view_name": "LayoutView",
            "grid_template_rows": null,
            "right": null,
            "justify_content": null,
            "_view_module": "@jupyter-widgets/base",
            "overflow": null,
            "_model_module_version": "1.2.0",
            "_view_count": null,
            "flex_flow": null,
            "width": null,
            "min_width": null,
            "border": null,
            "align_items": null,
            "bottom": null,
            "_model_module": "@jupyter-widgets/base",
            "top": null,
            "grid_column": null,
            "overflow_y": null,
            "overflow_x": null,
            "grid_auto_flow": null,
            "grid_area": null,
            "grid_template_columns": null,
            "flex": null,
            "_model_name": "LayoutModel",
            "justify_items": null,
            "grid_row": null,
            "max_height": null,
            "align_content": null,
            "visibility": null,
            "align_self": null,
            "height": null,
            "min_height": null,
            "padding": null,
            "grid_auto_rows": null,
            "grid_gap": null,
            "max_width": null,
            "order": null,
            "_view_module_version": "1.2.0",
            "grid_template_areas": null,
            "object_position": null,
            "object_fit": null,
            "grid_auto_columns": null,
            "margin": null,
            "display": null,
            "left": null
          }
        },
        "153934f42c6640cb98d41dba74f33646": {
          "model_module": "@jupyter-widgets/controls",
          "model_name": "DescriptionStyleModel",
          "state": {
            "_view_name": "StyleView",
            "_model_name": "DescriptionStyleModel",
            "description_width": "",
            "_view_module": "@jupyter-widgets/base",
            "_model_module_version": "1.5.0",
            "_view_count": null,
            "_view_module_version": "1.2.0",
            "_model_module": "@jupyter-widgets/controls"
          }
        },
        "1e958326e82a4ea7b775ba9ed4fc6859": {
          "model_module": "@jupyter-widgets/base",
          "model_name": "LayoutModel",
          "state": {
            "_view_name": "LayoutView",
            "grid_template_rows": null,
            "right": null,
            "justify_content": null,
            "_view_module": "@jupyter-widgets/base",
            "overflow": null,
            "_model_module_version": "1.2.0",
            "_view_count": null,
            "flex_flow": null,
            "width": null,
            "min_width": null,
            "border": null,
            "align_items": null,
            "bottom": null,
            "_model_module": "@jupyter-widgets/base",
            "top": null,
            "grid_column": null,
            "overflow_y": null,
            "overflow_x": null,
            "grid_auto_flow": null,
            "grid_area": null,
            "grid_template_columns": null,
            "flex": null,
            "_model_name": "LayoutModel",
            "justify_items": null,
            "grid_row": null,
            "max_height": null,
            "align_content": null,
            "visibility": null,
            "align_self": null,
            "height": null,
            "min_height": null,
            "padding": null,
            "grid_auto_rows": null,
            "grid_gap": null,
            "max_width": null,
            "order": null,
            "_view_module_version": "1.2.0",
            "grid_template_areas": null,
            "object_position": null,
            "object_fit": null,
            "grid_auto_columns": null,
            "margin": null,
            "display": null,
            "left": null
          }
        },
        "42fcc00491f54b94b0269baef6795eff": {
          "model_module": "@jupyter-widgets/controls",
          "model_name": "HBoxModel",
          "state": {
            "_view_name": "HBoxView",
            "_dom_classes": [],
            "_model_name": "HBoxModel",
            "_view_module": "@jupyter-widgets/controls",
            "_model_module_version": "1.5.0",
            "_view_count": null,
            "_view_module_version": "1.5.0",
            "box_style": "",
            "layout": "IPY_MODEL_5313c780e49742daa1b24108b4eaa11c",
            "_model_module": "@jupyter-widgets/controls",
            "children": [
              "IPY_MODEL_add8ab84dc94491d9f0d500700b2ed29",
              "IPY_MODEL_f56382f221b44be1a6a9d0dbf36b807f"
            ]
          }
        },
        "5313c780e49742daa1b24108b4eaa11c": {
          "model_module": "@jupyter-widgets/base",
          "model_name": "LayoutModel",
          "state": {
            "_view_name": "LayoutView",
            "grid_template_rows": null,
            "right": null,
            "justify_content": null,
            "_view_module": "@jupyter-widgets/base",
            "overflow": null,
            "_model_module_version": "1.2.0",
            "_view_count": null,
            "flex_flow": null,
            "width": null,
            "min_width": null,
            "border": null,
            "align_items": null,
            "bottom": null,
            "_model_module": "@jupyter-widgets/base",
            "top": null,
            "grid_column": null,
            "overflow_y": null,
            "overflow_x": null,
            "grid_auto_flow": null,
            "grid_area": null,
            "grid_template_columns": null,
            "flex": null,
            "_model_name": "LayoutModel",
            "justify_items": null,
            "grid_row": null,
            "max_height": null,
            "align_content": null,
            "visibility": null,
            "align_self": null,
            "height": null,
            "min_height": null,
            "padding": null,
            "grid_auto_rows": null,
            "grid_gap": null,
            "max_width": null,
            "order": null,
            "_view_module_version": "1.2.0",
            "grid_template_areas": null,
            "object_position": null,
            "object_fit": null,
            "grid_auto_columns": null,
            "margin": null,
            "display": null,
            "left": null
          }
        },
        "add8ab84dc94491d9f0d500700b2ed29": {
          "model_module": "@jupyter-widgets/controls",
          "model_name": "FloatProgressModel",
          "state": {
            "_view_name": "ProgressView",
            "style": "IPY_MODEL_8ec190e3ba844027a66bdac13e01b08c",
            "_dom_classes": [],
            "description": "Downloading: 100%",
            "_model_name": "FloatProgressModel",
            "bar_style": "success",
            "max": 1715180,
            "_view_module": "@jupyter-widgets/controls",
            "_model_module_version": "1.5.0",
            "value": 1715180,
            "_view_count": null,
            "_view_module_version": "1.5.0",
            "orientation": "horizontal",
            "min": 0,
            "description_tooltip": null,
            "_model_module": "@jupyter-widgets/controls",
            "layout": "IPY_MODEL_3ed9622bef944d59bd14a0f5dd5b1c70"
          }
        },
        "f56382f221b44be1a6a9d0dbf36b807f": {
          "model_module": "@jupyter-widgets/controls",
          "model_name": "HTMLModel",
          "state": {
            "_view_name": "HTMLView",
            "style": "IPY_MODEL_e286d5dfade14a819509248b415a8dee",
            "_dom_classes": [],
            "description": "",
            "_model_name": "HTMLModel",
            "placeholder": "​",
            "_view_module": "@jupyter-widgets/controls",
            "_model_module_version": "1.5.0",
            "value": " 1.72M/1.72M [00:53&lt;00:00, 31.9kB/s]",
            "_view_count": null,
            "_view_module_version": "1.5.0",
            "description_tooltip": null,
            "_model_module": "@jupyter-widgets/controls",
            "layout": "IPY_MODEL_20c3b11bf5534ad4a33c23add03e0a46"
          }
        },
        "8ec190e3ba844027a66bdac13e01b08c": {
          "model_module": "@jupyter-widgets/controls",
          "model_name": "ProgressStyleModel",
          "state": {
            "_view_name": "StyleView",
            "_model_name": "ProgressStyleModel",
            "description_width": "initial",
            "_view_module": "@jupyter-widgets/base",
            "_model_module_version": "1.5.0",
            "_view_count": null,
            "_view_module_version": "1.2.0",
            "bar_color": null,
            "_model_module": "@jupyter-widgets/controls"
          }
        },
        "3ed9622bef944d59bd14a0f5dd5b1c70": {
          "model_module": "@jupyter-widgets/base",
          "model_name": "LayoutModel",
          "state": {
            "_view_name": "LayoutView",
            "grid_template_rows": null,
            "right": null,
            "justify_content": null,
            "_view_module": "@jupyter-widgets/base",
            "overflow": null,
            "_model_module_version": "1.2.0",
            "_view_count": null,
            "flex_flow": null,
            "width": null,
            "min_width": null,
            "border": null,
            "align_items": null,
            "bottom": null,
            "_model_module": "@jupyter-widgets/base",
            "top": null,
            "grid_column": null,
            "overflow_y": null,
            "overflow_x": null,
            "grid_auto_flow": null,
            "grid_area": null,
            "grid_template_columns": null,
            "flex": null,
            "_model_name": "LayoutModel",
            "justify_items": null,
            "grid_row": null,
            "max_height": null,
            "align_content": null,
            "visibility": null,
            "align_self": null,
            "height": null,
            "min_height": null,
            "padding": null,
            "grid_auto_rows": null,
            "grid_gap": null,
            "max_width": null,
            "order": null,
            "_view_module_version": "1.2.0",
            "grid_template_areas": null,
            "object_position": null,
            "object_fit": null,
            "grid_auto_columns": null,
            "margin": null,
            "display": null,
            "left": null
          }
        },
        "e286d5dfade14a819509248b415a8dee": {
          "model_module": "@jupyter-widgets/controls",
          "model_name": "DescriptionStyleModel",
          "state": {
            "_view_name": "StyleView",
            "_model_name": "DescriptionStyleModel",
            "description_width": "",
            "_view_module": "@jupyter-widgets/base",
            "_model_module_version": "1.5.0",
            "_view_count": null,
            "_view_module_version": "1.2.0",
            "_model_module": "@jupyter-widgets/controls"
          }
        },
        "20c3b11bf5534ad4a33c23add03e0a46": {
          "model_module": "@jupyter-widgets/base",
          "model_name": "LayoutModel",
          "state": {
            "_view_name": "LayoutView",
            "grid_template_rows": null,
            "right": null,
            "justify_content": null,
            "_view_module": "@jupyter-widgets/base",
            "overflow": null,
            "_model_module_version": "1.2.0",
            "_view_count": null,
            "flex_flow": null,
            "width": null,
            "min_width": null,
            "border": null,
            "align_items": null,
            "bottom": null,
            "_model_module": "@jupyter-widgets/base",
            "top": null,
            "grid_column": null,
            "overflow_y": null,
            "overflow_x": null,
            "grid_auto_flow": null,
            "grid_area": null,
            "grid_template_columns": null,
            "flex": null,
            "_model_name": "LayoutModel",
            "justify_items": null,
            "grid_row": null,
            "max_height": null,
            "align_content": null,
            "visibility": null,
            "align_self": null,
            "height": null,
            "min_height": null,
            "padding": null,
            "grid_auto_rows": null,
            "grid_gap": null,
            "max_width": null,
            "order": null,
            "_view_module_version": "1.2.0",
            "grid_template_areas": null,
            "object_position": null,
            "object_fit": null,
            "grid_auto_columns": null,
            "margin": null,
            "display": null,
            "left": null
          }
        },
        "3c8c9c4653994f6099b1b0bef1b292aa": {
          "model_module": "@jupyter-widgets/controls",
          "model_name": "HBoxModel",
          "state": {
            "_view_name": "HBoxView",
            "_dom_classes": [],
            "_model_name": "HBoxModel",
            "_view_module": "@jupyter-widgets/controls",
            "_model_module_version": "1.5.0",
            "_view_count": null,
            "_view_module_version": "1.5.0",
            "box_style": "",
            "layout": "IPY_MODEL_2a19c23781c644c4b4466c130b794cb5",
            "_model_module": "@jupyter-widgets/controls",
            "children": [
              "IPY_MODEL_586de577e8c64b5e887ff1f051274d6b",
              "IPY_MODEL_0583498788ff4c608c3bc48912b01e08"
            ]
          }
        },
        "2a19c23781c644c4b4466c130b794cb5": {
          "model_module": "@jupyter-widgets/base",
          "model_name": "LayoutModel",
          "state": {
            "_view_name": "LayoutView",
            "grid_template_rows": null,
            "right": null,
            "justify_content": null,
            "_view_module": "@jupyter-widgets/base",
            "overflow": null,
            "_model_module_version": "1.2.0",
            "_view_count": null,
            "flex_flow": null,
            "width": null,
            "min_width": null,
            "border": null,
            "align_items": null,
            "bottom": null,
            "_model_module": "@jupyter-widgets/base",
            "top": null,
            "grid_column": null,
            "overflow_y": null,
            "overflow_x": null,
            "grid_auto_flow": null,
            "grid_area": null,
            "grid_template_columns": null,
            "flex": null,
            "_model_name": "LayoutModel",
            "justify_items": null,
            "grid_row": null,
            "max_height": null,
            "align_content": null,
            "visibility": null,
            "align_self": null,
            "height": null,
            "min_height": null,
            "padding": null,
            "grid_auto_rows": null,
            "grid_gap": null,
            "max_width": null,
            "order": null,
            "_view_module_version": "1.2.0",
            "grid_template_areas": null,
            "object_position": null,
            "object_fit": null,
            "grid_auto_columns": null,
            "margin": null,
            "display": null,
            "left": null
          }
        },
        "586de577e8c64b5e887ff1f051274d6b": {
          "model_module": "@jupyter-widgets/controls",
          "model_name": "FloatProgressModel",
          "state": {
            "_view_name": "ProgressView",
            "style": "IPY_MODEL_bef56956f8274a048d8e0491026f08c9",
            "_dom_classes": [],
            "description": "Downloading: 100%",
            "_model_name": "FloatProgressModel",
            "bar_style": "success",
            "max": 672271273,
            "_view_module": "@jupyter-widgets/controls",
            "_model_module_version": "1.5.0",
            "value": 672271273,
            "_view_count": null,
            "_view_module_version": "1.5.0",
            "orientation": "horizontal",
            "min": 0,
            "description_tooltip": null,
            "_model_module": "@jupyter-widgets/controls",
            "layout": "IPY_MODEL_bc1339caa665462da0c161f90dc4940e"
          }
        },
        "0583498788ff4c608c3bc48912b01e08": {
          "model_module": "@jupyter-widgets/controls",
          "model_name": "HTMLModel",
          "state": {
            "_view_name": "HTMLView",
            "style": "IPY_MODEL_31a5eadd543b4ca6992264a8a21cf931",
            "_dom_classes": [],
            "description": "",
            "_model_name": "HTMLModel",
            "placeholder": "​",
            "_view_module": "@jupyter-widgets/controls",
            "_model_module_version": "1.5.0",
            "value": " 672M/672M [00:45&lt;00:00, 14.7MB/s]",
            "_view_count": null,
            "_view_module_version": "1.5.0",
            "description_tooltip": null,
            "_model_module": "@jupyter-widgets/controls",
            "layout": "IPY_MODEL_e13fa5ea44ed4c4aa813d9a39f0acb22"
          }
        },
        "bef56956f8274a048d8e0491026f08c9": {
          "model_module": "@jupyter-widgets/controls",
          "model_name": "ProgressStyleModel",
          "state": {
            "_view_name": "StyleView",
            "_model_name": "ProgressStyleModel",
            "description_width": "initial",
            "_view_module": "@jupyter-widgets/base",
            "_model_module_version": "1.5.0",
            "_view_count": null,
            "_view_module_version": "1.2.0",
            "bar_color": null,
            "_model_module": "@jupyter-widgets/controls"
          }
        },
        "bc1339caa665462da0c161f90dc4940e": {
          "model_module": "@jupyter-widgets/base",
          "model_name": "LayoutModel",
          "state": {
            "_view_name": "LayoutView",
            "grid_template_rows": null,
            "right": null,
            "justify_content": null,
            "_view_module": "@jupyter-widgets/base",
            "overflow": null,
            "_model_module_version": "1.2.0",
            "_view_count": null,
            "flex_flow": null,
            "width": null,
            "min_width": null,
            "border": null,
            "align_items": null,
            "bottom": null,
            "_model_module": "@jupyter-widgets/base",
            "top": null,
            "grid_column": null,
            "overflow_y": null,
            "overflow_x": null,
            "grid_auto_flow": null,
            "grid_area": null,
            "grid_template_columns": null,
            "flex": null,
            "_model_name": "LayoutModel",
            "justify_items": null,
            "grid_row": null,
            "max_height": null,
            "align_content": null,
            "visibility": null,
            "align_self": null,
            "height": null,
            "min_height": null,
            "padding": null,
            "grid_auto_rows": null,
            "grid_gap": null,
            "max_width": null,
            "order": null,
            "_view_module_version": "1.2.0",
            "grid_template_areas": null,
            "object_position": null,
            "object_fit": null,
            "grid_auto_columns": null,
            "margin": null,
            "display": null,
            "left": null
          }
        },
        "31a5eadd543b4ca6992264a8a21cf931": {
          "model_module": "@jupyter-widgets/controls",
          "model_name": "DescriptionStyleModel",
          "state": {
            "_view_name": "StyleView",
            "_model_name": "DescriptionStyleModel",
            "description_width": "",
            "_view_module": "@jupyter-widgets/base",
            "_model_module_version": "1.5.0",
            "_view_count": null,
            "_view_module_version": "1.2.0",
            "_model_module": "@jupyter-widgets/controls"
          }
        },
        "e13fa5ea44ed4c4aa813d9a39f0acb22": {
          "model_module": "@jupyter-widgets/base",
          "model_name": "LayoutModel",
          "state": {
            "_view_name": "LayoutView",
            "grid_template_rows": null,
            "right": null,
            "justify_content": null,
            "_view_module": "@jupyter-widgets/base",
            "overflow": null,
            "_model_module_version": "1.2.0",
            "_view_count": null,
            "flex_flow": null,
            "width": null,
            "min_width": null,
            "border": null,
            "align_items": null,
            "bottom": null,
            "_model_module": "@jupyter-widgets/base",
            "top": null,
            "grid_column": null,
            "overflow_y": null,
            "overflow_x": null,
            "grid_auto_flow": null,
            "grid_area": null,
            "grid_template_columns": null,
            "flex": null,
            "_model_name": "LayoutModel",
            "justify_items": null,
            "grid_row": null,
            "max_height": null,
            "align_content": null,
            "visibility": null,
            "align_self": null,
            "height": null,
            "min_height": null,
            "padding": null,
            "grid_auto_rows": null,
            "grid_gap": null,
            "max_width": null,
            "order": null,
            "_view_module_version": "1.2.0",
            "grid_template_areas": null,
            "object_position": null,
            "object_fit": null,
            "grid_auto_columns": null,
            "margin": null,
            "display": null,
            "left": null
          }
        }
      }
    }
  },
  "cells": [
    {
      "cell_type": "markdown",
      "metadata": {
        "id": "view-in-github",
        "colab_type": "text"
      },
      "source": [
        "<a href=\"https://colab.research.google.com/github/Kontilenia/NLP/blob/main/SpamRecognition.ipynb\" target=\"_parent\"><img src=\"https://colab.research.google.com/assets/colab-badge.svg\" alt=\"Open In Colab\"/></a>"
      ]
    },
    {
      "cell_type": "markdown",
      "metadata": {
        "id": "dVC0TNrIKiN4"
      },
      "source": [
        "# Create neural network that recognise spam SMS."
      ]
    },
    {
      "cell_type": "markdown",
      "metadata": {
        "id": "rRGwHCOsAD-J"
      },
      "source": [
        "Install and import all necessary packages  "
      ]
    },
    {
      "cell_type": "code",
      "metadata": {
        "id": "sBUIgmRCw6Fq"
      },
      "source": [
        "!pip install transformers > /dev/null"
      ],
      "execution_count": 1,
      "outputs": []
    },
    {
      "cell_type": "code",
      "metadata": {
        "id": "r9T6oW3OxBkr"
      },
      "source": [
        "import pandas as pd\n",
        "from sklearn.model_selection import train_test_split\n",
        "import tqdm \n",
        "import numpy as np\n",
        "import random\n",
        "import torch\n",
        "import numpy as np\n",
        "import matplotlib.pyplot as plt\n",
        "from torch.utils.data import Dataset, DataLoader\n",
        "from torchvision import transforms, utils, models\n",
        "from transformers import AutoTokenizer, AutoModel\n",
        "from torch import cuda\n",
        "from sklearn.metrics import accuracy_score, f1_score"
      ],
      "execution_count": 2,
      "outputs": []
    },
    {
      "cell_type": "markdown",
      "metadata": {
        "id": "bEc1EmluBTSQ"
      },
      "source": [
        "Check in which devide the code is going to run (CPU or GPU)"
      ]
    },
    {
      "cell_type": "code",
      "metadata": {
        "colab": {
          "base_uri": "https://localhost:8080/"
        },
        "id": "25B3zN-DBMFm",
        "outputId": "69546a2e-7045-4121-9c6c-1c20cd8482e5"
      },
      "source": [
        "device = 'cuda' if cuda.is_available() else 'CPU'\n",
        "print('current device is', device)"
      ],
      "execution_count": 3,
      "outputs": [
        {
          "output_type": "stream",
          "text": [
            "current device is cuda\n"
          ],
          "name": "stdout"
        }
      ]
    },
    {
      "cell_type": "markdown",
      "metadata": {
        "id": "_bPKL1jiB3Vt"
      },
      "source": [
        "Conect with google drive"
      ]
    },
    {
      "cell_type": "code",
      "metadata": {
        "colab": {
          "base_uri": "https://localhost:8080/"
        },
        "id": "ezElYkyjzbSq",
        "outputId": "2e8a049b-0d6c-4ac8-8c2d-e1e84b341ff3"
      },
      "source": [
        "from google.colab import drive\n",
        "drive.mount('/content/drive')"
      ],
      "execution_count": null,
      "outputs": [
        {
          "output_type": "stream",
          "text": [
            "Mounted at /content/drive\n"
          ],
          "name": "stdout"
        }
      ]
    },
    {
      "cell_type": "markdown",
      "metadata": {
        "id": "3-cj7WZ7CIPI"
      },
      "source": [
        "Change folder in google drive"
      ]
    },
    {
      "cell_type": "code",
      "metadata": {
        "colab": {
          "base_uri": "https://localhost:8080/"
        },
        "id": "BtoZxqq1znN2",
        "outputId": "fd9ab841-de62-4c21-812f-baf2223583a5"
      },
      "source": [
        "%cd /content/drive/MyDrive/data/spam"
      ],
      "execution_count": 4,
      "outputs": [
        {
          "output_type": "stream",
          "text": [
            "[Errno 2] No such file or directory: '/content/drive/MyDrive/data/spam'\n",
            "/content\n"
          ],
          "name": "stdout"
        }
      ]
    },
    {
      "cell_type": "code",
      "metadata": {
        "colab": {
          "base_uri": "https://localhost:8080/"
        },
        "id": "dqwO-Dh9SoPa",
        "outputId": "785f846b-a3cf-4738-e482-57abc31df5c1"
      },
      "source": [
        "%cd /content/data"
      ],
      "execution_count": 5,
      "outputs": [
        {
          "output_type": "stream",
          "text": [
            "/content/data\n"
          ],
          "name": "stdout"
        }
      ]
    },
    {
      "cell_type": "markdown",
      "metadata": {
        "id": "b8CAfabWCeB6"
      },
      "source": [
        "Read the csv file that contains the dataset and create dictionaries for the labels of the dataset (ham or spam)."
      ]
    },
    {
      "cell_type": "code",
      "metadata": {
        "id": "7O9eJEevzoJz"
      },
      "source": [
        "df = pd.read_csv(\"spam2.csv\")\n",
        "#df[\"target\"].unique()\n",
        "label2idx = { label:idx for  idx,label in enumerate(sorted(df.target.unique())) }\n",
        "idx2label = { idx:label for  idx,label in enumerate(sorted(df.target.unique())) }\n",
        "#df.head(0)"
      ],
      "execution_count": 6,
      "outputs": []
    },
    {
      "cell_type": "markdown",
      "metadata": {
        "id": "t63yFCPHDXC9"
      },
      "source": [
        "set_seed function is used in order to have the same random numbers every time"
      ]
    },
    {
      "cell_type": "code",
      "metadata": {
        "id": "Dgx-_RT4z1sO"
      },
      "source": [
        "def set_seed(seed):\n",
        "    random.seed(seed)\n",
        "    np.random.seed(seed)\n",
        "    torch.manual_seed(seed)\n",
        "    torch.cuda.manual_seed_all(seed)\n",
        "#set_seed(0)"
      ],
      "execution_count": 7,
      "outputs": []
    },
    {
      "cell_type": "markdown",
      "metadata": {
        "id": "gHmCM_k8Ejir"
      },
      "source": [
        "SpamLineByLineDataset class is created in order to handle the dataset. "
      ]
    },
    {
      "cell_type": "code",
      "metadata": {
        "id": "pZS_7Qb8z5s2"
      },
      "source": [
        "class SpamLineByLineDataset(Dataset):\n",
        "\n",
        "    def __init__(self, df, tokenizer,  max_len=100):    \n",
        "\n",
        "    #Arguments:\n",
        "        #df (Dataframe): A Dataframe with the dataset.\n",
        "        #tokenizer: the bert tokenizer \n",
        "        #max_len: The maximum length of the token sequence        \n",
        "        \n",
        "        #self.transform = transform\n",
        "        self.transform = transforms\n",
        "        self.tokenizer = tokenizer\n",
        "        self.df = df \n",
        "        self.max_len = max_len\n",
        "\n",
        "    def __len__(self):\n",
        "        return self.df.shape[0]\n",
        "\n",
        "    def __getitem__(self, idx):\n",
        "        if torch.is_tensor(idx):\n",
        "            idx = idx.tolist()\n",
        "\n",
        "        #text = self.df.loc[idx].tweet.lower()\n",
        "        text = self.df.loc[idx].to_string()      \n",
        "        \n",
        "        if \"target\" in self.df.columns:\n",
        "          target = df.loc[idx].target\n",
        "          label = label2idx[target]\n",
        "        else:\n",
        "          label = -1\n",
        "\n",
        "        inputs = self.tokenizer.encode_plus(\n",
        "            text,\n",
        "            None,\n",
        "            add_special_tokens=True,\n",
        "            max_length=self.max_len,\n",
        "            return_token_type_ids=True,\n",
        "            truncation=True,\n",
        "            padding = \"max_length\"\n",
        "        )\n",
        "        ids = inputs['input_ids']\n",
        "        mask = inputs['attention_mask']\n",
        "        token_type_ids = inputs[\"token_type_ids\"]\n",
        "\n",
        "\n",
        "        return {\n",
        "            'ids': torch.tensor(ids, dtype=torch.long),\n",
        "            'mask': torch.tensor(mask, dtype=torch.long),\n",
        "            'token_type_ids': torch.tensor(token_type_ids, dtype=torch.long),\n",
        "            'label': torch.tensor(label, dtype=torch.int64), \n",
        "            'text' : text\n",
        "        }"
      ],
      "execution_count": 8,
      "outputs": []
    },
    {
      "cell_type": "markdown",
      "metadata": {
        "id": "Usau8wT-MNT8"
      },
      "source": [
        "Load BERT and use it to create a SpamLineByLineDataset Object"
      ]
    },
    {
      "cell_type": "code",
      "metadata": {
        "id": "50HHo9GHz7on",
        "colab": {
          "base_uri": "https://localhost:8080/",
          "height": 219,
          "referenced_widgets": [
            "65abc25a64d843eca6596a8dd8f5d3fb",
            "1c8fa3ec80c74cb69f9fe5112459bdee",
            "d25bbc1ca53d44318f37e212da11cf89",
            "088a1fcefe314ed88d0adcbebd725011",
            "53929e7c0541457a98123c5441656d0e",
            "7ba6752d47c94cd096e0b0940f9aa40a",
            "3baf6f785cbb4bd99efff40422d8785c",
            "34b0636c05124914b38e86066c815a7c",
            "88ea7ee6b31e49e180b0f43b07e49148",
            "85c5ad9d48c44a85aedc66b63d3b77b9",
            "22283598d9254b7c9693ccd619d5fa53",
            "27a0042bc62e414ebb296b66aee3ec87",
            "9ba2ccbc311d437b92c0c76d1dba97b9",
            "f9839bd6ae0f44debf297a915239c674",
            "f956a8615d084bd8851c40655fe174ae",
            "1ec3710aea8548059735ca16adbfad48",
            "268b177c127045b68d0e47b9f4c38659",
            "69c63c8ea90d413db01e2e2dd80f28d1",
            "866cc549b6ff4944b3b50d1d12d3c209",
            "76758d2aafdb41d0ba8af4bee892192f",
            "427cdd88358644aa88302ce4598e448e",
            "aafc9454b4d2431a848d176ee9562d39",
            "153934f42c6640cb98d41dba74f33646",
            "1e958326e82a4ea7b775ba9ed4fc6859",
            "42fcc00491f54b94b0269baef6795eff",
            "5313c780e49742daa1b24108b4eaa11c",
            "add8ab84dc94491d9f0d500700b2ed29",
            "f56382f221b44be1a6a9d0dbf36b807f",
            "8ec190e3ba844027a66bdac13e01b08c",
            "3ed9622bef944d59bd14a0f5dd5b1c70",
            "e286d5dfade14a819509248b415a8dee",
            "20c3b11bf5534ad4a33c23add03e0a46"
          ]
        },
        "outputId": "54621f9e-5812-4a7c-a8b5-7d57deb5968e"
      },
      "source": [
        "base_model = \"bert-base-multilingual-uncased\"\n",
        "tokenizer = AutoTokenizer.from_pretrained(base_model)\n",
        "ds = SpamLineByLineDataset(df, tokenizer=tokenizer) \n",
        "#type(ds.__getitem__(0).get(\"text\"))"
      ],
      "execution_count": 9,
      "outputs": [
        {
          "output_type": "display_data",
          "data": {
            "application/vnd.jupyter.widget-view+json": {
              "model_id": "65abc25a64d843eca6596a8dd8f5d3fb",
              "version_minor": 0,
              "version_major": 2
            },
            "text/plain": [
              "HBox(children=(FloatProgress(value=0.0, description='Downloading', max=28.0, style=ProgressStyle(description_w…"
            ]
          },
          "metadata": {
            "tags": []
          }
        },
        {
          "output_type": "stream",
          "text": [
            "\n"
          ],
          "name": "stdout"
        },
        {
          "output_type": "display_data",
          "data": {
            "application/vnd.jupyter.widget-view+json": {
              "model_id": "88ea7ee6b31e49e180b0f43b07e49148",
              "version_minor": 0,
              "version_major": 2
            },
            "text/plain": [
              "HBox(children=(FloatProgress(value=0.0, description='Downloading', max=625.0, style=ProgressStyle(description_…"
            ]
          },
          "metadata": {
            "tags": []
          }
        },
        {
          "output_type": "stream",
          "text": [
            "\n"
          ],
          "name": "stdout"
        },
        {
          "output_type": "display_data",
          "data": {
            "application/vnd.jupyter.widget-view+json": {
              "model_id": "268b177c127045b68d0e47b9f4c38659",
              "version_minor": 0,
              "version_major": 2
            },
            "text/plain": [
              "HBox(children=(FloatProgress(value=0.0, description='Downloading', max=871891.0, style=ProgressStyle(descripti…"
            ]
          },
          "metadata": {
            "tags": []
          }
        },
        {
          "output_type": "stream",
          "text": [
            "\n"
          ],
          "name": "stdout"
        },
        {
          "output_type": "display_data",
          "data": {
            "application/vnd.jupyter.widget-view+json": {
              "model_id": "42fcc00491f54b94b0269baef6795eff",
              "version_minor": 0,
              "version_major": 2
            },
            "text/plain": [
              "HBox(children=(FloatProgress(value=0.0, description='Downloading', max=1715180.0, style=ProgressStyle(descript…"
            ]
          },
          "metadata": {
            "tags": []
          }
        },
        {
          "output_type": "stream",
          "text": [
            "\n"
          ],
          "name": "stdout"
        }
      ]
    },
    {
      "cell_type": "markdown",
      "metadata": {
        "id": "8PHmFR0HMyUA"
      },
      "source": [
        "Split the dataset in train and test sets. The train set is 80% of the dataset and the train set is 20% of the dataset."
      ]
    },
    {
      "cell_type": "code",
      "metadata": {
        "id": "CvHmU2mGz_uA"
      },
      "source": [
        "set_seed(0)\n",
        "test_size = int(len(ds)*0.2)\n",
        "train_set, test_set = torch.utils.data.random_split(ds, [len(ds)-test_size, test_size])\n",
        "#len(train_set), len(test_set)\n",
        "#label2idx\n",
        "#train_set[0]"
      ],
      "execution_count": 10,
      "outputs": []
    },
    {
      "cell_type": "markdown",
      "metadata": {
        "id": "iFP6DphjNzyk"
      },
      "source": [
        "SpamText class is created in order to handle the BERT pretrained neural network. "
      ]
    },
    {
      "cell_type": "code",
      "metadata": {
        "id": "8qpAcAW-0EfE"
      },
      "source": [
        "class SpamText(torch.nn.Module):\n",
        "    def __init__(self, base_model, num_outputs):\n",
        "        super(SpamText, self).__init__()\n",
        "        self.l1 = AutoModel.from_pretrained(base_model)\n",
        "        self.linear = torch.nn.Linear(768 , num_outputs)\n",
        "    \n",
        "    def forward(self, ids, mask, token_type_ids ):\n",
        "        text_feats =  self.l1(ids, attention_mask = mask, token_type_ids = token_type_ids)['pooler_output']\n",
        "        output = self.linear(text_feats)\n",
        "        return output\n",
        "        return text_feats"
      ],
      "execution_count": 11,
      "outputs": []
    },
    {
      "cell_type": "markdown",
      "metadata": {
        "id": "UsvjYD9BOfNG"
      },
      "source": [
        "Create SpamText object."
      ]
    },
    {
      "cell_type": "code",
      "metadata": {
        "colab": {
          "base_uri": "https://localhost:8080/",
          "height": 143,
          "referenced_widgets": [
            "3c8c9c4653994f6099b1b0bef1b292aa",
            "2a19c23781c644c4b4466c130b794cb5",
            "586de577e8c64b5e887ff1f051274d6b",
            "0583498788ff4c608c3bc48912b01e08",
            "bef56956f8274a048d8e0491026f08c9",
            "bc1339caa665462da0c161f90dc4940e",
            "31a5eadd543b4ca6992264a8a21cf931",
            "e13fa5ea44ed4c4aa813d9a39f0acb22"
          ]
        },
        "id": "pJrEajXc0HOt",
        "outputId": "cd1a8afb-137a-4640-bcf4-a9a05f4f0db2"
      },
      "source": [
        "#set_seed(0)\n",
        "#train_loader = DataLoader(train_set, batch_size=8, shuffle=True)\n",
        "#test_loader = DataLoader(test_set, batch_size=8, shuffle=False)\n",
        "model = SpamText(base_model=base_model, num_outputs=len(idx2label)).to(device)\n",
        "#data = next(iter(test_loader))\n",
        "#ids = data['ids'].to(device, dtype = torch.long)\n",
        "#mask = data['mask'].to(device, dtype = torch.long)\n",
        "#token_type_ids = data['token_type_ids'].to(device, dtype = torch.long)\n",
        "#targets = data['label'].to(device, dtype = torch.int64)\n",
        "#outputs = model(ids, mask, token_type_ids)\n",
        "#len(test_set)/8"
      ],
      "execution_count": 12,
      "outputs": [
        {
          "output_type": "display_data",
          "data": {
            "application/vnd.jupyter.widget-view+json": {
              "model_id": "3c8c9c4653994f6099b1b0bef1b292aa",
              "version_minor": 0,
              "version_major": 2
            },
            "text/plain": [
              "HBox(children=(FloatProgress(value=0.0, description='Downloading', max=672271273.0, style=ProgressStyle(descri…"
            ]
          },
          "metadata": {
            "tags": []
          }
        },
        {
          "output_type": "stream",
          "text": [
            "\n"
          ],
          "name": "stdout"
        },
        {
          "output_type": "stream",
          "text": [
            "Some weights of the model checkpoint at bert-base-multilingual-uncased were not used when initializing BertModel: ['cls.predictions.transform.dense.bias', 'cls.predictions.transform.LayerNorm.weight', 'cls.seq_relationship.weight', 'cls.seq_relationship.bias', 'cls.predictions.decoder.weight', 'cls.predictions.transform.LayerNorm.bias', 'cls.predictions.bias', 'cls.predictions.transform.dense.weight']\n",
            "- This IS expected if you are initializing BertModel from the checkpoint of a model trained on another task or with another architecture (e.g. initializing a BertForSequenceClassification model from a BertForPreTraining model).\n",
            "- This IS NOT expected if you are initializing BertModel from the checkpoint of a model that you expect to be exactly identical (initializing a BertForSequenceClassification model from a BertForSequenceClassification model).\n"
          ],
          "name": "stderr"
        }
      ]
    },
    {
      "cell_type": "markdown",
      "metadata": {
        "id": "MpfIKHsR9AF0"
      },
      "source": [
        "Train function is used to train neural network by updating its weights."
      ]
    },
    {
      "cell_type": "code",
      "metadata": {
        "id": "alANmpO40M6d"
      },
      "source": [
        "def train(epoch, model, optimizer, criterion, training_loader):\n",
        "    model.train()\n",
        "\n",
        "    losses = [] \n",
        "    for _,data in enumerate(training_loader, 0):\n",
        "    \n",
        "        ids = data['ids'].to(device, dtype = torch.long)\n",
        "        mask = data['mask'].to(device, dtype = torch.long)\n",
        "        token_type_ids = data['token_type_ids'].to(device, dtype = torch.long)\n",
        "        targets = data['label'].to(device, dtype = torch.int64)\n",
        "        \n",
        "        outputs = model(ids, mask, token_type_ids)\n",
        "\n",
        "        optimizer.zero_grad()\n",
        "\n",
        "\n",
        "        loss = criterion(outputs, targets)\n",
        "        losses.append( loss.item())\n",
        "      \n",
        "        loss.backward()\n",
        "        optimizer.step()\n",
        "\n",
        "    print( f\"Epoch {epoch}, mean epoch loss={np.mean(losses):.4}\")"
      ],
      "execution_count": 13,
      "outputs": []
    },
    {
      "cell_type": "markdown",
      "metadata": {
        "id": "oVs0oFsu93PR"
      },
      "source": [
        "Validation function is used to take the ouputs of the neural network without updating its weights.   "
      ]
    },
    {
      "cell_type": "code",
      "metadata": {
        "id": "SpqXORdt91FK"
      },
      "source": [
        "def validation(model, testing_loader):\n",
        "    model.eval()\n",
        "    fin_targets=[]\n",
        "    fin_outputs=[]\n",
        "    with torch.no_grad():\n",
        "        for _, data in enumerate(testing_loader, 0):\n",
        "            \n",
        "            ids = data['ids'].to(device, dtype = torch.long)\n",
        "            mask = data['mask'].to(device, dtype = torch.long)\n",
        "            token_type_ids = data['token_type_ids'].to(device, dtype = torch.long)\n",
        "            targets = data['label'].to(device, dtype = torch.int64) \n",
        "                       \n",
        "            outputs = model(ids, mask, token_type_ids)\n",
        "\n",
        "            fin_targets.extend(targets.cpu().detach().numpy().tolist())\n",
        "            fin_outputs.extend(torch.argmax(outputs, dim=1).cpu().detach().numpy().tolist())\n",
        "    \n",
        "    fin_outputs = np.array(fin_outputs)\n",
        "    return fin_outputs, fin_targets"
      ],
      "execution_count": 14,
      "outputs": []
    },
    {
      "cell_type": "markdown",
      "metadata": {
        "id": "vfX7NsASHgRf"
      },
      "source": [
        "Clear cache memory of GPU and call set_seed function to take the same random numbers. Also, create two DataLoaders with train and test set. Train set is need to be shuffled for better performance.   "
      ]
    },
    {
      "cell_type": "code",
      "metadata": {
        "id": "kcQJlrAF0SNt"
      },
      "source": [
        "torch.cuda.empty_cache()\n",
        "set_seed(0)\n",
        "train_loader = DataLoader(train_set, batch_size=8, shuffle=True)\n",
        "test_loader = DataLoader(test_set, batch_size=8, shuffle=False)"
      ],
      "execution_count": 15,
      "outputs": []
    },
    {
      "cell_type": "markdown",
      "metadata": {
        "id": "hshp9nc-Ialc"
      },
      "source": [
        "Train neular network for one epoch. This code works also for more epochs. In this case only the model with the greatest accuracy is taken. "
      ]
    },
    {
      "cell_type": "code",
      "metadata": {
        "colab": {
          "base_uri": "https://localhost:8080/"
        },
        "id": "_SX-bk_z0TI6",
        "outputId": "4c32a78a-45d4-4610-b555-1e8d038c1a5f"
      },
      "source": [
        "import copy\n",
        "set_seed(0)\n",
        "print(f\"training model\")\n",
        "\n",
        "best_score = 0 \n",
        "model = SpamText(base_model=base_model, num_outputs=len(idx2label)).to(device)\n",
        "LEARNING_RATE = 1e-05\n",
        "optimizer = torch.optim.Adam(params =  model.parameters(), lr=LEARNING_RATE) \n",
        "criterion = torch.nn.CrossEntropyLoss()\n",
        "best_model_wts = copy.deepcopy(model.state_dict())\n",
        "EPOCHS = 1\n",
        "\n",
        "for epoch in range(EPOCHS):\n",
        "    train(epoch, model, optimizer, criterion, training_loader=train_loader)\n",
        "    outputs, targets = validation(model=model, testing_loader=test_loader)\n",
        "    \n",
        "    outputs = outputs.reshape(-1)\n",
        "    targets = np.array(targets)\n",
        "    accuracy = accuracy_score(targets, outputs)\n",
        "    #f1_score_micro = f1_score(targets, outputs, average='micro')\n",
        "    #f1_score_macro = f1_score(targets, outputs, average='macro')\n",
        "\n",
        "    #print(f\"Epoch {epoch}, accuracy Score = {accuracy:0.4}\")\n",
        "    print(f\"Epoch {epoch}, accuracy Score = {accuracy}\")\n",
        "    \n",
        "    print(100*\"-\")\n",
        "    if accuracy > best_score:\n",
        "        best_score = accuracy\n",
        "        best_model_wts = copy.deepcopy(model.state_dict())\n",
        "\n",
        "        print(f\"Best Accuracy Score = {accuracy}\")\n",
        "        #print(f\"F1 Score (Micro) = {f1_score_micro}\")\n",
        "        #print(f\"F1 Score (Macro) = {f1_score_macro}\")\n",
        "\n",
        "        print(100*\"-\")\n",
        "  \n",
        "model.load_state_dict(best_model_wts)"
      ],
      "execution_count": 16,
      "outputs": [
        {
          "output_type": "stream",
          "text": [
            "training model\n"
          ],
          "name": "stdout"
        },
        {
          "output_type": "stream",
          "text": [
            "Some weights of the model checkpoint at bert-base-multilingual-uncased were not used when initializing BertModel: ['cls.predictions.transform.dense.bias', 'cls.predictions.transform.LayerNorm.weight', 'cls.seq_relationship.weight', 'cls.seq_relationship.bias', 'cls.predictions.decoder.weight', 'cls.predictions.transform.LayerNorm.bias', 'cls.predictions.bias', 'cls.predictions.transform.dense.weight']\n",
            "- This IS expected if you are initializing BertModel from the checkpoint of a model trained on another task or with another architecture (e.g. initializing a BertForSequenceClassification model from a BertForPreTraining model).\n",
            "- This IS NOT expected if you are initializing BertModel from the checkpoint of a model that you expect to be exactly identical (initializing a BertForSequenceClassification model from a BertForSequenceClassification model).\n"
          ],
          "name": "stderr"
        },
        {
          "output_type": "stream",
          "text": [
            "Epoch 0, mean epoch loss=0.1089\n",
            "Epoch 0, accuracy Score = 1.0\n",
            "----------------------------------------------------------------------------------------------------\n",
            "Best Accuracy Score = 1.0\n",
            "----------------------------------------------------------------------------------------------------\n"
          ],
          "name": "stdout"
        },
        {
          "output_type": "execute_result",
          "data": {
            "text/plain": [
              "<All keys matched successfully>"
            ]
          },
          "metadata": {
            "tags": []
          },
          "execution_count": 16
        }
      ]
    },
    {
      "cell_type": "markdown",
      "metadata": {
        "id": "PgyD5r45KQqT"
      },
      "source": [
        "Save the model to google drive."
      ]
    },
    {
      "cell_type": "code",
      "metadata": {
        "colab": {
          "base_uri": "https://localhost:8080/"
        },
        "id": "-i9xm2Kp0TBw",
        "outputId": "9b213b8a-1fac-49aa-9623-13d2ea819561"
      },
      "source": [
        "#%mkdir -p /content/drive/MyDrive/models\n",
        "%cd /content/drive/MyDrive/models\n",
        "torch.save( model , f\"./spam_model.pth\" )"
      ],
      "execution_count": 17,
      "outputs": [
        {
          "output_type": "stream",
          "text": [
            "[Errno 2] No such file or directory: '/content/drive/MyDrive/models'\n",
            "/content/data\n"
          ],
          "name": "stdout"
        }
      ]
    },
    {
      "cell_type": "code",
      "metadata": {
        "id": "XtaXlS6eTV6u"
      },
      "source": [
        "torch.save( model , f\"./spam_model.pth\" )"
      ],
      "execution_count": 18,
      "outputs": []
    },
    {
      "cell_type": "markdown",
      "metadata": {
        "id": "WK-UB_3KKWR_"
      },
      "source": [
        "# Test neural network"
      ]
    },
    {
      "cell_type": "markdown",
      "metadata": {
        "id": "ARin-AEaMXQV"
      },
      "source": [
        "Load trained neural network"
      ]
    },
    {
      "cell_type": "code",
      "metadata": {
        "id": "j4z889B60S3d"
      },
      "source": [
        "model = torch.load( f\"./spam_model.pth\" )"
      ],
      "execution_count": null,
      "outputs": []
    },
    {
      "cell_type": "markdown",
      "metadata": {
        "id": "L-OLeOWHUWea"
      },
      "source": [
        "Give a text as an imput in order to test neural network results."
      ]
    },
    {
      "cell_type": "code",
      "metadata": {
        "id": "VtryUdZUOz2D"
      },
      "source": [
        "#@title Give a text\n",
        "user_text = \"\" #@param {type:\"string\"}\n"
      ],
      "execution_count": null,
      "outputs": []
    },
    {
      "cell_type": "markdown",
      "metadata": {
        "id": "ShOZPNNBMa-Y"
      },
      "source": [
        "Calculate the result of neural network on some phrases. Use argmax function to calculate probabilities for every class and make a bar diagram."
      ]
    },
    {
      "cell_type": "code",
      "metadata": {
        "colab": {
          "base_uri": "https://localhost:8080/",
          "height": 359
        },
        "id": "WtzK2XCZ3MSl",
        "outputId": "a728b827-3540-408a-81e7-405fa6e0f09c"
      },
      "source": [
        "model.eval()\n",
        "\n",
        "df_test = pd.DataFrame( data = [user_text],\n",
        "                       columns= [\"tweet\"])\n",
        "\n",
        "ds_test = SpamLineByLineDataset(df_test, tokenizer=tokenizer)\n",
        "dl_test = DataLoader(ds_test, batch_size = 8, shuffle=False)\n",
        "\n",
        "data = next(iter(dl_test))\n",
        "\n",
        "\n",
        "ids = data['ids'].to(device, dtype = torch.long)\n",
        "mask = data['mask'].to(device, dtype = torch.long)\n",
        "token_type_ids = data['token_type_ids'].to(device, dtype = torch.long)\n",
        "targets = data['label'].to(device, dtype = torch.int64)\n",
        "\n",
        "outputs = model(ids, mask, token_type_ids)\n",
        "\n",
        "predicted_label = outputs.argmax(dim=1).cpu().numpy()\n",
        "\n",
        "probs = torch.softmax( outputs, dim=1).detach().cpu().numpy()\n",
        "\n",
        "for idx, l in enumerate(predicted_label):\n",
        "\n",
        "  print( f\" text: {df_test.loc[idx].tweet[:]} \\n label: {idx2label[l]} \\n probability to be spam: {probs[idx][label2idx['spam']]}\")\n",
        "  plt.bar( range(2), height=probs[idx])\n",
        "  plt.xticks( range(2), label2idx.keys(), rotation='60')\n",
        "  plt.show()\n",
        "  "
      ],
      "execution_count": null,
      "outputs": [
        {
          "output_type": "stream",
          "text": [
            " text: spam spam spam spam spam spam spam spam spam spam spam spam spam spam spam spam spam spam spam spam spam spam spam spam spam spam spam spam spam spam spam spam spam spam spam spam spam spam spam spam spam spam spam spam spam spam spam  \n",
            " label: spam \n",
            " probability to be spam: 0.9978479146957397\n"
          ],
          "name": "stdout"
        },
        {
          "output_type": "display_data",
          "data": {
            "image/png": "[encoded data removed]",
            "text/plain": [
              "<Figure size 432x288 with 1 Axes>"
            ]
          },
          "metadata": {
            "tags": [],
            "needs_background": "light"
          }
        }
      ]
    }
  ]
}